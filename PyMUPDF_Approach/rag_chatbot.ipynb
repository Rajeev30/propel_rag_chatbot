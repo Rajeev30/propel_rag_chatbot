{
 "cells": [
  {
   "cell_type": "code",
   "execution_count": 1,
   "metadata": {},
   "outputs": [],
   "source": [
    "import os\n",
    "from dotenv import load_dotenv\n",
    "load_dotenv()                           # expects .env in the repo root\n",
    "\n",
    "OPENAI_API_KEY  = os.getenv(\"OPENAI_API_KEY\")\n",
    "PINECONE_API_KEY = os.getenv(\"PINECONE_API_KEY\")\n",
    "PINECONE_ENV     = os.getenv(\"PINECONE_ENV\")  # e.g. \"gcp-starter\"\n"
   ]
  },
  {
   "cell_type": "code",
   "execution_count": null,
   "metadata": {},
   "outputs": [],
   "source": [
    "from pathlib import Path\n",
    "import fitz  # PyMuPDF\n",
    "\n",
    "def load_pdf(path: Path) -> str:\n",
    "    doc = fitz.open(path)\n",
    "    text = []\n",
    "    for page in doc:\n",
    "        text.append(page.get_text(\"text\"))\n",
    "    return \"\\n\".join(text)\n",
    "\n",
    "raw_text = load_pdf(Path(\"/Users/rajeev/Downloads/doc2.pdf\"))\n",
    "print(raw_text[:1000])   # sanity‑check first 1 000 chars\n"
   ]
  },
  {
   "cell_type": "code",
   "execution_count": 3,
   "metadata": {},
   "outputs": [],
   "source": [
    "import os, base64\n",
    "from pathlib import Path\n",
    "from tqdm import tqdm\n",
    "\n",
    "import fitz                         # PyMuPDF 2.0+\n",
    "import tabula                       # needs Java;  pip install tabula-py jpype1\n",
    "from langchain.text_splitter import RecursiveCharacterTextSplitter\n"
   ]
  },
  {
   "cell_type": "code",
   "execution_count": null,
   "metadata": {},
   "outputs": [],
   "source": [
    "# def create_directories(base_dir: str = \"data\"):\n",
    "#     for leaf in [\"images\", \"text\", \"tables\", \"page_images\"]:\n",
    "#         os.makedirs(Path(base_dir) / leaf, exist_ok=True)\n"
   ]
  },
  {
   "cell_type": "code",
   "execution_count": null,
   "metadata": {},
   "outputs": [],
   "source": [
    "# def process_tables(filepath: str, doc, page_num: int, base_dir: str, items: list):\n",
    "#     \"\"\"Extract all tables on a page with Tabula → save as txt.\"\"\"\n",
    "#     try:\n",
    "#         tables = tabula.read_pdf(filepath, pages=page_num + 1, multiple_tables=True)\n",
    "#         if not tables:\n",
    "#             return\n",
    "#         for t_idx, df in enumerate(tables):\n",
    "#             table_text = \"\\n\".join([\" | \".join(map(str, row)) for row in df.values])\n",
    "#             fname = Path(base_dir) / \"tables\" / f\"{Path(filepath).stem}_table_{page_num}_{t_idx}.txt\"\n",
    "#             fname.write_text(table_text, encoding=\"utf-8\")\n",
    "#             items.append({\"page\": page_num, \"type\": \"table\", \"text\": table_text, \"path\": str(fname)})\n",
    "#     except Exception as e:\n",
    "#         print(f\"[warn] page {page_num}: table extract failed ➜ {e}\")\n",
    "\n",
    "# def process_text_chunks(text: str, splitter, page_num: int, base_dir: str, filepath: str, items: list):\n",
    "#     for i, chunk in enumerate(splitter.split_text(text)):\n",
    "#         fname = Path(base_dir) / \"text\" / f\"{Path(filepath).stem}_text_{page_num}_{i}.txt\"\n",
    "#         fname.write_text(chunk, encoding=\"utf-8\")\n",
    "#         items.append({\"page\": page_num, \"type\": \"text\", \"text\": chunk, \"path\": str(fname)})\n",
    "\n",
    "# def process_images(doc, page, page_num: int, base_dir: str, filepath: str, items: list):\n",
    "#     for idx, img in enumerate(page.get_images(full=True)):\n",
    "#         xref = img[0]\n",
    "#         pix = fitz.Pixmap(doc, xref)\n",
    "#         # handle CMYK → RGB\n",
    "#         if pix.alpha or pix.colorspace.n > 3:\n",
    "#             pix = fitz.Pixmap(fitz.csRGB, pix)\n",
    "#         fname = Path(base_dir) / \"images\" / f\"{Path(filepath).stem}_image_{page_num}_{idx}_{xref}.png\"\n",
    "#         pix.save(fname)\n",
    "#         items.append({\n",
    "#             \"page\": page_num, \"type\": \"image\", \"path\": str(fname),\n",
    "#             \"image\": base64.b64encode(fname.read_bytes()).decode(\"utf-8\")\n",
    "#         })\n",
    "\n",
    "# def process_page_image(page, page_num: int, base_dir: str, items: list):\n",
    "#     pix = page.get_pixmap(matrix=fitz.Matrix(2,2))   # 2× for crispness\n",
    "#     fname = Path(base_dir) / \"page_images\" / f\"page_{page_num:03d}.png\"\n",
    "#     pix.save(fname)\n",
    "#     items.append({\n",
    "#         \"page\": page_num, \"type\": \"page\", \"path\": str(fname),\n",
    "#         \"image\": base64.b64encode(fname.read_bytes()).decode(\"utf-8\")\n",
    "#     })\n"
   ]
  },
  {
   "cell_type": "code",
   "execution_count": null,
   "metadata": {},
   "outputs": [
    {
     "name": "stderr",
     "output_type": "stream",
     "text": [
      "Processing PDF pages: 100%|██████████| 84/84 [00:29<00:00,  2.82it/s]"
     ]
    },
    {
     "name": "stdout",
     "output_type": "stream",
     "text": [
      "✅  finished – extracted 750 items\n"
     ]
    },
    {
     "name": "stderr",
     "output_type": "stream",
     "text": [
      "\n"
     ]
    }
   ],
   "source": [
    "# filepath = \"/Users/rajeev/Downloads/doc2.pdf\"          # ← update if needed\n",
    "# base_dir = \"data\"              # root output folder\n",
    "\n",
    "# create_directories(base_dir)\n",
    "# splitter = RecursiveCharacterTextSplitter(\n",
    "#     chunk_size=700, chunk_overlap=200, length_function=len\n",
    "# )\n",
    "\n",
    "# items = []\n",
    "\n",
    "# doc = fitz.open(filepath)\n",
    "# for page_num in tqdm(range(len(doc)), desc=\"Processing PDF pages\"):\n",
    "#     page = doc[page_num]\n",
    "#     text = page.get_text(\"text\")\n",
    "\n",
    "#     process_tables(filepath, doc, page_num, base_dir, items)\n",
    "#     process_text_chunks(text, splitter, page_num, base_dir, filepath, items)\n",
    "#     process_images(doc, page, page_num, base_dir, filepath, items)\n",
    "#     process_page_image(page, page_num, base_dir, items)\n",
    "\n",
    "# print(f\"✅  finished – extracted {len(items)} items\")\n"
   ]
  },
  {
   "cell_type": "code",
   "execution_count": null,
   "metadata": {},
   "outputs": [],
   "source": [
    "# # First text chunk – preview 200 chars\n",
    "# first_text = next(obj for obj in items if obj[\"type\"] == \"text\")\n",
    "# print(first_text[\"text\"][:200])\n",
    "\n",
    "# # First table – preview 200 chars\n",
    "# first_table = next(obj for obj in items if obj[\"type\"] == \"table\")\n",
    "# print(first_table[\"text\"][:200])\n",
    "\n",
    "# # First image – show path (or the base64 string length, etc.)\n",
    "# first_img = next(obj for obj in items if obj[\"type\"] == \"image\")\n",
    "# print(first_img[\"path\"])\n",
    "# # print(len(first_img[\"image\"]))   # if you want to confirm it’s base64\n"
   ]
  },
  {
   "cell_type": "code",
   "execution_count": null,
   "metadata": {},
   "outputs": [],
   "source": [
    "pip install pdfplumber jpype1 tabula-py pillow"
   ]
  },
  {
   "cell_type": "code",
   "execution_count": 7,
   "metadata": {},
   "outputs": [],
   "source": [
    "from pathlib import Path\n",
    "import os, base64, json, fitz, pdfplumber\n",
    "from tqdm import tqdm\n",
    "import tabula\n",
    "from langchain.text_splitter import RecursiveCharacterTextSplitter\n",
    "\n",
    "# ---------- CONFIG ----------\n",
    "PDF_PATH  = Path(\"/Users/rajeev/Downloads/doc2.pdf\")\n",
    "BASE_DIR  = Path(\"data\")\n",
    "DIAGRAM_THRESHOLD = 0.60   # % of page area to be considered full-page diagram\n",
    "LOGO_THRESHOLD    = 0.10   # % of page area under which we skip as logo/ornament\n",
    "TEXT_EMPTY_LIMIT  = 100    # char count to decide page is \"mostly image\"\n",
    "PIXMAP_ZOOM       = 3      # render factor for full page images\n",
    "# ----------------------------\n"
   ]
  },
  {
   "cell_type": "code",
   "execution_count": 8,
   "metadata": {},
   "outputs": [],
   "source": [
    "\n",
    "# 1 · utils ------------------------------------------------------\n",
    "def ensure_dirs():\n",
    "    for sub in [\"images\", \"text\", \"tables\", \"page_images\"]:\n",
    "        (BASE_DIR / sub).mkdir(parents=True, exist_ok=True)\n",
    "\n",
    "def save_txt(fname: Path, txt: str):\n",
    "    fname.write_text(txt, encoding=\"utf-8\")\n",
    "\n",
    "def save_pixmap(pix: fitz.Pixmap, fname: Path):\n",
    "    if pix.alpha or pix.colorspace.n > 3:\n",
    "        pix = fitz.Pixmap(fitz.csRGB, pix)\n",
    "    pix.save(fname)\n"
   ]
  },
  {
   "cell_type": "code",
   "execution_count": 9,
   "metadata": {},
   "outputs": [],
   "source": [
    "\n",
    "# 2 · caption cache stub ----------------------------------------\n",
    "CAPTION_CACHE_FILE = \"captions_cache.json\"\n",
    "if Path(CAPTION_CACHE_FILE).exists():\n",
    "    CAPTION_CACHE = json.loads(Path(CAPTION_CACHE_FILE).read_text())\n",
    "else:\n",
    "    CAPTION_CACHE = {}\n",
    "\n",
    "def caption_image_cached(path: Path) -> str:\n",
    "    key = str(path.resolve())\n",
    "    if key in CAPTION_CACHE:\n",
    "        return CAPTION_CACHE[key]\n",
    "    # --- call your GPT-4o vision captioner here ---\n",
    "    caption = \"[CAPTION]\"  # placeholder\n",
    "    CAPTION_CACHE[key] = caption\n",
    "    Path(CAPTION_CACHE_FILE).write_text(json.dumps(CAPTION_CACHE, indent=2))\n",
    "    return caption\n"
   ]
  },
  {
   "cell_type": "code",
   "execution_count": 39,
   "metadata": {},
   "outputs": [],
   "source": [
    "from io import BytesIO\n",
    "from PIL import Image\n",
    "import imagehash\n",
    "\n",
    "# Global trackers\n",
    "HASH_COUNTS = {}\n",
    "SKIP_HASHES = set()\n",
    "\n",
    "def pixmap_to_pil(pix: fitz.Pixmap) -> Image.Image:\n",
    "    \"\"\"Convert PyMuPDF pixmap to PIL Image, with fallback for broken samples\"\"\"\n",
    "    try:\n",
    "        # Convert via bytes safely\n",
    "        mode = \"RGB\" if pix.n < 5 else \"RGBA\"\n",
    "        img_bytes = pix.tobytes(output=\"ppm\")  # robust fallback\n",
    "        return Image.open(BytesIO(img_bytes)).convert(mode)\n",
    "    except Exception as e:\n",
    "        print(f\"[warn] pixmap_to_pil failed: {e}\")\n",
    "        return None\n",
    "\n",
    "\n",
    "def should_skip_pil_image(pil_img: Image.Image, min_repeat: int = 3) -> bool:\n",
    "    \"\"\"Decide whether to skip an image based on perceptual hash frequency\"\"\"\n",
    "    img_hash = str(imagehash.phash(pil_img))\n",
    "    if img_hash in SKIP_HASHES:\n",
    "        return True\n",
    "    HASH_COUNTS[img_hash] = HASH_COUNTS.get(img_hash, 0) + 1\n",
    "    if HASH_COUNTS[img_hash] >= min_repeat:\n",
    "        SKIP_HASHES.add(img_hash)\n",
    "        return True\n",
    "    return False\n"
   ]
  },
  {
   "cell_type": "code",
   "execution_count": 46,
   "metadata": {},
   "outputs": [],
   "source": [
    "# 3 · main extractor --------------------------------------------\n",
    "def extract_pdf(pdf_path: Path):\n",
    "    ensure_dirs()\n",
    "    splitter = RecursiveCharacterTextSplitter(chunk_size=700, chunk_overlap=200)\n",
    "\n",
    "    items = []\n",
    "    doc   = fitz.open(pdf_path)\n",
    "\n",
    "    for page_idx in tqdm(range(len(doc)), desc=\"Processing pages\"):\n",
    "        page = doc[page_idx]\n",
    "        raw_text = page.get_text(\"text\", sort=True).strip()\n",
    "\n",
    "        # ---------- Table extraction ----------\n",
    "        try:\n",
    "            tables = tabula.read_pdf(str(pdf_path), pages=page_idx + 1, multiple_tables=True)\n",
    "            for t_i, df in enumerate(tables or []):\n",
    "                table_txt = \"\\n\".join(\" | \".join(map(str, r)) for r in df.values)\n",
    "                f = BASE_DIR / \"tables\" / f\"{pdf_path.stem}_table_{page_idx}_{t_i}.txt\"\n",
    "                save_txt(f, table_txt)\n",
    "                items.append({\"page\": page_idx, \"type\": \"table\", \"text\": table_txt, \"path\": str(f)})\n",
    "        except Exception as e:\n",
    "            print(f\"[warn] page {page_idx}: table extraction failed – {e}\")\n",
    "\n",
    "        # ---------- Text chunking ----------\n",
    "        if raw_text:\n",
    "            for i, chunk in enumerate(splitter.split_text(raw_text)):\n",
    "                f = BASE_DIR / \"text\" / f\"{pdf_path.stem}_text_{page_idx}_{i}.txt\"\n",
    "                save_txt(f, chunk)\n",
    "                items.append({\"page\": page_idx, \"type\": \"text\", \"text\": chunk, \"path\": str(f)})\n",
    "\n",
    "        # ---------- Image logic ----------\n",
    "        page_bbox = page.rect\n",
    "        page_area = page_bbox.width * page_bbox.height\n",
    "        full_page_diagram = False\n",
    "\n",
    "        with pdfplumber.open(pdf_path) as plumber_pdf:\n",
    "            plumber_page = plumber_pdf.pages[page_idx]\n",
    "            imgs = plumber_page.images  # gives bbox coords\n",
    "            print(f\"[Page {page_idx}] {len(imgs)} images found\")\n",
    "            for img in imgs:\n",
    "                img_area = img[\"width\"] * img[\"height\"]\n",
    "                print(f\"  → {round(img_area / page_area * 100, 2)}% of page\")\n",
    "\n",
    "        # Filter out tiny logos\n",
    "        large_imgs = [\n",
    "            img for img in imgs\n",
    "            if (img[\"width\"] * img[\"height\"]) / page_area > LOGO_THRESHOLD\n",
    "        ]\n",
    "\n",
    "        # Heuristic: one large image covers most of the page\n",
    "        composite_area = sum(img[\"width\"] * img[\"height\"] for img in imgs if (img[\"width\"] * img[\"height\"]) / page_area > 0.15)\n",
    "\n",
    "        if composite_area / page_area > 0.40:\n",
    "            full_page_diagram = True\n",
    "\n",
    "        if full_page_diagram:\n",
    "            # Render whole page at high res\n",
    "            pix = page.get_pixmap(matrix=fitz.Matrix(PIXMAP_ZOOM, PIXMAP_ZOOM))\n",
    "            f = BASE_DIR / \"page_images\" / f\"diagram_page_{page_idx:03d}.png\"\n",
    "            save_pixmap(pix, f)\n",
    "            caption = caption_image_cached(f)\n",
    "            # If page text is too short, pull context from neighbors\n",
    "            related = \"\"\n",
    "            if len(raw_text) <= TEXT_EMPTY_LIMIT:\n",
    "                for adj in [page_idx - 1, page_idx + 1]:\n",
    "                    if 0 <= adj < len(doc):\n",
    "                        adj_text = doc[adj].get_text(\"text\", sort=True).strip()\n",
    "                        if len(adj_text) > TEXT_EMPTY_LIMIT:\n",
    "                            related += adj_text + \"\\n\"\n",
    "            items.append({\n",
    "                \"page\": page_idx,\n",
    "                \"type\": \"page\",\n",
    "                \"path\": str(f),\n",
    "                \"text\": caption,\n",
    "                \"related_text\": related.strip()\n",
    "            })\n",
    "            print(f\"✅ Detected composite diagram on page {page_idx} covering {round(composite_area / page_area * 100, 2)}%\")\n",
    "\n",
    "        else:\n",
    "            # Normal inline images\n",
    "            page_area = page.rect.width * page.rect.height\n",
    "\n",
    "            with pdfplumber.open(pdf_path) as plumber_pdf:\n",
    "                plumber_page = plumber_pdf.pages[page_idx]\n",
    "                imgs = plumber_page.images  # contains width, height, x0, y0, etc.\n",
    "\n",
    "            for idx, img in enumerate(page.get_images(full=True)):\n",
    "                xref = img[0]\n",
    "\n",
    "                # 🔍 Find the matching image in plumber by xref (or fallback to estimated area)\n",
    "                matching = next((i for i in imgs if i.get(\"name\") == img[7]), None)\n",
    "\n",
    "                if matching:\n",
    "                    img_area = matching[\"width\"] * matching[\"height\"]\n",
    "                else:\n",
    "                    pix = fitz.Pixmap(doc, xref)\n",
    "                    img_area = pix.width * pix.height\n",
    "\n",
    "                percent = img_area / page_area\n",
    "\n",
    "                if percent < 0.01:\n",
    "                    print(f\"🗑️ Skipped small image on page {page_idx}: {round(percent * 100, 2)}% of page\")\n",
    "                    continue\n",
    "\n",
    "                pix = fitz.Pixmap(doc, xref)\n",
    "                fname = BASE_DIR / \"images\" / f\"{pdf_path.stem}_img_{page_idx}_{idx}_{xref}.png\"\n",
    "                save_pixmap(pix, fname)\n",
    "\n",
    "                items.append({\n",
    "                    \"page\": page_idx,\n",
    "                    \"type\": \"image\",\n",
    "                    \"path\": str(fname),\n",
    "                    \"text\": caption_image_cached(fname)\n",
    "                })\n",
    "\n",
    "    print(\"\\n🧾 Pages with full-page diagrams:\")\n",
    "    print([item[\"page\"] for item in items if item[\"type\"] == \"page\"])\n",
    "    \n",
    "\n",
    "\n",
    "    print(f\"✅ finished – extracted {len(items)} items\")\n",
    "    return items\n"
   ]
  },
  {
   "cell_type": "code",
   "execution_count": 47,
   "metadata": {},
   "outputs": [],
   "source": [
    "import shutil\n",
    "shutil.rmtree(\"data/images\", ignore_errors=True)\n",
    "shutil.rmtree(\"data/page_images\", ignore_errors=True)\n"
   ]
  },
  {
   "cell_type": "code",
   "execution_count": 48,
   "metadata": {},
   "outputs": [
    {
     "name": "stderr",
     "output_type": "stream",
     "text": [
      "Processing pages:   1%|          | 1/84 [00:00<00:32,  2.54it/s]"
     ]
    },
    {
     "name": "stdout",
     "output_type": "stream",
     "text": [
      "[Page 0] 2 images found\n",
      "  → 33.8% of page\n",
      "  → 4.83% of page\n"
     ]
    },
    {
     "name": "stderr",
     "output_type": "stream",
     "text": [
      "Processing pages:   2%|▏         | 2/84 [00:00<00:29,  2.78it/s]"
     ]
    },
    {
     "name": "stdout",
     "output_type": "stream",
     "text": [
      "[Page 1] 4 images found\n",
      "  → 0.97% of page\n",
      "  → 0.2% of page\n",
      "  → 0.16% of page\n",
      "  → 0.16% of page\n",
      "🗑️ Skipped small image on page 1: 0.97% of page\n",
      "🗑️ Skipped small image on page 1: 0.2% of page\n",
      "🗑️ Skipped small image on page 1: 0.16% of page\n"
     ]
    },
    {
     "name": "stderr",
     "output_type": "stream",
     "text": [
      "Processing pages:   4%|▎         | 3/84 [00:01<00:33,  2.41it/s]"
     ]
    },
    {
     "name": "stdout",
     "output_type": "stream",
     "text": [
      "[Page 2] 2 images found\n",
      "  → 0.2% of page\n",
      "  → 0.97% of page\n",
      "🗑️ Skipped small image on page 2: 0.2% of page\n",
      "🗑️ Skipped small image on page 2: 0.97% of page\n"
     ]
    },
    {
     "name": "stderr",
     "output_type": "stream",
     "text": [
      "Processing pages:   5%|▍         | 4/84 [00:01<00:34,  2.33it/s]"
     ]
    },
    {
     "name": "stdout",
     "output_type": "stream",
     "text": [
      "[Page 3] 2 images found\n",
      "  → 0.97% of page\n",
      "  → 0.2% of page\n",
      "🗑️ Skipped small image on page 3: 0.97% of page\n",
      "🗑️ Skipped small image on page 3: 0.2% of page\n"
     ]
    },
    {
     "name": "stderr",
     "output_type": "stream",
     "text": [
      "Processing pages:   6%|▌         | 5/84 [00:02<00:32,  2.42it/s]"
     ]
    },
    {
     "name": "stdout",
     "output_type": "stream",
     "text": [
      "[Page 4] 2 images found\n",
      "  → 0.2% of page\n",
      "  → 0.97% of page\n",
      "🗑️ Skipped small image on page 4: 0.2% of page\n",
      "🗑️ Skipped small image on page 4: 0.97% of page\n"
     ]
    },
    {
     "name": "stderr",
     "output_type": "stream",
     "text": [
      "Processing pages:   7%|▋         | 6/84 [00:02<00:26,  2.91it/s]"
     ]
    },
    {
     "name": "stdout",
     "output_type": "stream",
     "text": [
      "[Page 5] 4 images found\n",
      "  → 0.97% of page\n",
      "  → 0.2% of page\n",
      "  → 0.16% of page\n",
      "  → 0.2% of page\n",
      "🗑️ Skipped small image on page 5: 0.97% of page\n",
      "🗑️ Skipped small image on page 5: 0.2% of page\n",
      "🗑️ Skipped small image on page 5: 0.16% of page\n",
      "🗑️ Skipped small image on page 5: 0.2% of page\n"
     ]
    },
    {
     "name": "stderr",
     "output_type": "stream",
     "text": [
      "Processing pages:   8%|▊         | 7/84 [00:02<00:24,  3.11it/s]"
     ]
    },
    {
     "name": "stdout",
     "output_type": "stream",
     "text": [
      "[Page 6] 6 images found\n",
      "  → 0.2% of page\n",
      "  → 0.97% of page\n",
      "  → 0.16% of page\n",
      "  → 0.16% of page\n",
      "  → 0.16% of page\n",
      "  → 0.16% of page\n",
      "🗑️ Skipped small image on page 6: 0.2% of page\n",
      "🗑️ Skipped small image on page 6: 0.97% of page\n",
      "🗑️ Skipped small image on page 6: 0.16% of page\n"
     ]
    },
    {
     "name": "stderr",
     "output_type": "stream",
     "text": [
      "Processing pages:  10%|▉         | 8/84 [00:02<00:25,  2.97it/s]"
     ]
    },
    {
     "name": "stdout",
     "output_type": "stream",
     "text": [
      "[Page 7] 2 images found\n",
      "  → 0.97% of page\n",
      "  → 0.2% of page\n",
      "🗑️ Skipped small image on page 7: 0.97% of page\n",
      "🗑️ Skipped small image on page 7: 0.2% of page\n"
     ]
    },
    {
     "name": "stderr",
     "output_type": "stream",
     "text": [
      "Processing pages:  11%|█         | 9/84 [00:03<00:25,  2.96it/s]"
     ]
    },
    {
     "name": "stdout",
     "output_type": "stream",
     "text": [
      "[Page 8] 3 images found\n",
      "  → 0.2% of page\n",
      "  → 0.97% of page\n",
      "  → 0.16% of page\n",
      "🗑️ Skipped small image on page 8: 0.2% of page\n",
      "🗑️ Skipped small image on page 8: 0.97% of page\n",
      "🗑️ Skipped small image on page 8: 0.16% of page\n"
     ]
    },
    {
     "name": "stderr",
     "output_type": "stream",
     "text": [
      "Processing pages:  12%|█▏        | 10/84 [00:03<00:25,  2.96it/s]"
     ]
    },
    {
     "name": "stdout",
     "output_type": "stream",
     "text": [
      "[Page 9] 2 images found\n",
      "  → 0.97% of page\n",
      "  → 0.2% of page\n",
      "🗑️ Skipped small image on page 9: 0.97% of page\n",
      "🗑️ Skipped small image on page 9: 0.2% of page\n"
     ]
    },
    {
     "name": "stderr",
     "output_type": "stream",
     "text": [
      "Processing pages:  13%|█▎        | 11/84 [00:03<00:22,  3.18it/s]"
     ]
    },
    {
     "name": "stdout",
     "output_type": "stream",
     "text": [
      "[Page 10] 3 images found\n",
      "  → 0.2% of page\n",
      "  → 0.97% of page\n",
      "  → 0.2% of page\n",
      "🗑️ Skipped small image on page 10: 0.2% of page\n",
      "🗑️ Skipped small image on page 10: 0.97% of page\n",
      "🗑️ Skipped small image on page 10: 0.2% of page\n"
     ]
    },
    {
     "name": "stderr",
     "output_type": "stream",
     "text": [
      "Processing pages:  14%|█▍        | 12/84 [00:04<00:22,  3.16it/s]"
     ]
    },
    {
     "name": "stdout",
     "output_type": "stream",
     "text": [
      "[Page 11] 3 images found\n",
      "  → 0.97% of page\n",
      "  → 0.2% of page\n",
      "  → 12.71% of page\n",
      "🗑️ Skipped small image on page 11: 0.97% of page\n",
      "🗑️ Skipped small image on page 11: 0.2% of page\n"
     ]
    },
    {
     "name": "stderr",
     "output_type": "stream",
     "text": [
      "Processing pages:  15%|█▌        | 13/84 [00:04<00:24,  2.85it/s]"
     ]
    },
    {
     "name": "stdout",
     "output_type": "stream",
     "text": [
      "[Page 12] 3 images found\n",
      "  → 0.2% of page\n",
      "  → 0.97% of page\n",
      "  → 33.8% of page\n",
      "🗑️ Skipped small image on page 12: 0.2% of page\n",
      "🗑️ Skipped small image on page 12: 0.97% of page\n"
     ]
    },
    {
     "name": "stderr",
     "output_type": "stream",
     "text": [
      "Processing pages:  17%|█▋        | 14/84 [00:04<00:25,  2.76it/s]"
     ]
    },
    {
     "name": "stdout",
     "output_type": "stream",
     "text": [
      "[Page 13] 4 images found\n",
      "  → 0.97% of page\n",
      "  → 0.2% of page\n",
      "  → 3.4% of page\n",
      "  → 4.46% of page\n",
      "🗑️ Skipped small image on page 13: 0.97% of page\n",
      "🗑️ Skipped small image on page 13: 0.2% of page\n"
     ]
    },
    {
     "name": "stderr",
     "output_type": "stream",
     "text": [
      "Processing pages:  18%|█▊        | 15/84 [00:05<00:25,  2.75it/s]"
     ]
    },
    {
     "name": "stdout",
     "output_type": "stream",
     "text": [
      "[Page 14] 5 images found\n",
      "  → 0.2% of page\n",
      "  → 0.97% of page\n",
      "  → 4.79% of page\n",
      "  → 3.31% of page\n",
      "  → 2.53% of page\n",
      "🗑️ Skipped small image on page 14: 0.2% of page\n",
      "🗑️ Skipped small image on page 14: 0.97% of page\n"
     ]
    },
    {
     "name": "stderr",
     "output_type": "stream",
     "text": [
      "Processing pages:  19%|█▉        | 16/84 [00:05<00:25,  2.68it/s]"
     ]
    },
    {
     "name": "stdout",
     "output_type": "stream",
     "text": [
      "[Page 15] 6 images found\n",
      "  → 0.97% of page\n",
      "  → 0.2% of page\n",
      "  → 3.99% of page\n",
      "  → 4.92% of page\n",
      "  → 2.18% of page\n",
      "  → 6.78% of page\n",
      "🗑️ Skipped small image on page 15: 0.97% of page\n",
      "🗑️ Skipped small image on page 15: 0.2% of page\n"
     ]
    },
    {
     "name": "stderr",
     "output_type": "stream",
     "text": [
      "Processing pages:  20%|██        | 17/84 [00:06<00:26,  2.51it/s]"
     ]
    },
    {
     "name": "stdout",
     "output_type": "stream",
     "text": [
      "[Page 16] 7 images found\n",
      "  → 0.2% of page\n",
      "  → 0.97% of page\n",
      "  → 3.72% of page\n",
      "  → 9.11% of page\n",
      "  → 8.96% of page\n",
      "  → 9.05% of page\n",
      "  → 8.96% of page\n",
      "🗑️ Skipped small image on page 16: 0.2% of page\n",
      "🗑️ Skipped small image on page 16: 0.97% of page\n"
     ]
    },
    {
     "name": "stderr",
     "output_type": "stream",
     "text": [
      "Processing pages:  21%|██▏       | 18/84 [00:06<00:23,  2.76it/s]"
     ]
    },
    {
     "name": "stdout",
     "output_type": "stream",
     "text": [
      "[Page 17] 12 images found\n",
      "  → 0.97% of page\n",
      "  → 0.2% of page\n",
      "  → 0.17% of page\n",
      "  → 0.16% of page\n",
      "  → 0.17% of page\n",
      "  → 0.16% of page\n",
      "  → 0.52% of page\n",
      "  → 0.52% of page\n",
      "  → 2.04% of page\n",
      "  → 2.04% of page\n",
      "  → 2.23% of page\n",
      "  → 2.23% of page\n",
      "🗑️ Skipped small image on page 17: 0.97% of page\n",
      "🗑️ Skipped small image on page 17: 0.2% of page\n",
      "🗑️ Skipped small image on page 17: 0.17% of page\n",
      "🗑️ Skipped small image on page 17: 0.16% of page\n",
      "🗑️ Skipped small image on page 17: 0.52% of page\n"
     ]
    },
    {
     "name": "stderr",
     "output_type": "stream",
     "text": [
      "Processing pages:  23%|██▎       | 19/84 [00:06<00:21,  3.08it/s]"
     ]
    },
    {
     "name": "stdout",
     "output_type": "stream",
     "text": [
      "[Page 18] 3 images found\n",
      "  → 0.2% of page\n",
      "  → 0.97% of page\n",
      "  → 0.2% of page\n",
      "🗑️ Skipped small image on page 18: 0.2% of page\n",
      "🗑️ Skipped small image on page 18: 0.97% of page\n",
      "🗑️ Skipped small image on page 18: 0.2% of page\n"
     ]
    },
    {
     "name": "stderr",
     "output_type": "stream",
     "text": [
      "Processing pages:  24%|██▍       | 20/84 [00:07<00:21,  3.04it/s]"
     ]
    },
    {
     "name": "stdout",
     "output_type": "stream",
     "text": [
      "[Page 19] 4 images found\n",
      "  → 0.97% of page\n",
      "  → 0.2% of page\n",
      "  → 5.66% of page\n",
      "  → 0.16% of page\n",
      "🗑️ Skipped small image on page 19: 0.97% of page\n",
      "🗑️ Skipped small image on page 19: 0.2% of page\n",
      "🗑️ Skipped small image on page 19: 0.16% of page\n"
     ]
    },
    {
     "name": "stderr",
     "output_type": "stream",
     "text": [
      "Processing pages:  25%|██▌       | 21/84 [00:07<00:19,  3.17it/s]"
     ]
    },
    {
     "name": "stdout",
     "output_type": "stream",
     "text": [
      "[Page 20] 8 images found\n",
      "  → 0.2% of page\n",
      "  → 0.97% of page\n",
      "  → 0.2% of page\n",
      "  → 2.2% of page\n",
      "  → 2.22% of page\n",
      "  → 2.22% of page\n",
      "  → 2.2% of page\n",
      "  → 2.17% of page\n",
      "🗑️ Skipped small image on page 20: 0.2% of page\n",
      "🗑️ Skipped small image on page 20: 0.97% of page\n",
      "🗑️ Skipped small image on page 20: 0.2% of page\n"
     ]
    },
    {
     "name": "stderr",
     "output_type": "stream",
     "text": [
      "Processing pages:  26%|██▌       | 22/84 [00:07<00:18,  3.42it/s]"
     ]
    },
    {
     "name": "stdout",
     "output_type": "stream",
     "text": [
      "[Page 21] 3 images found\n",
      "  → 0.97% of page\n",
      "  → 0.2% of page\n",
      "  → 0.2% of page\n",
      "🗑️ Skipped small image on page 21: 0.97% of page\n",
      "🗑️ Skipped small image on page 21: 0.2% of page\n",
      "🗑️ Skipped small image on page 21: 0.2% of page\n"
     ]
    },
    {
     "name": "stderr",
     "output_type": "stream",
     "text": [
      "Processing pages:  27%|██▋       | 23/84 [00:07<00:17,  3.43it/s]"
     ]
    },
    {
     "name": "stdout",
     "output_type": "stream",
     "text": [
      "[Page 22] 2 images found\n",
      "  → 0.2% of page\n",
      "  → 0.97% of page\n",
      "🗑️ Skipped small image on page 22: 0.2% of page\n",
      "🗑️ Skipped small image on page 22: 0.97% of page\n"
     ]
    },
    {
     "name": "stderr",
     "output_type": "stream",
     "text": [
      "Processing pages:  29%|██▊       | 24/84 [00:08<00:17,  3.47it/s]"
     ]
    },
    {
     "name": "stdout",
     "output_type": "stream",
     "text": [
      "[Page 23] 4 images found\n",
      "  → 0.97% of page\n",
      "  → 0.2% of page\n",
      "  → 0.16% of page\n",
      "  → 0.16% of page\n",
      "🗑️ Skipped small image on page 23: 0.97% of page\n",
      "🗑️ Skipped small image on page 23: 0.2% of page\n",
      "🗑️ Skipped small image on page 23: 0.16% of page\n"
     ]
    },
    {
     "name": "stderr",
     "output_type": "stream",
     "text": [
      "Processing pages:  30%|██▉       | 25/84 [00:08<00:17,  3.38it/s]"
     ]
    },
    {
     "name": "stdout",
     "output_type": "stream",
     "text": [
      "[Page 24] 5 images found\n",
      "  → 0.2% of page\n",
      "  → 0.97% of page\n",
      "  → 0.16% of page\n",
      "  → 0.2% of page\n",
      "  → 12.66% of page\n",
      "🗑️ Skipped small image on page 24: 0.2% of page\n",
      "🗑️ Skipped small image on page 24: 0.97% of page\n",
      "🗑️ Skipped small image on page 24: 0.16% of page\n",
      "🗑️ Skipped small image on page 24: 0.2% of page\n",
      "[Page 25] 3 images found\n",
      "  → 0.97% of page\n",
      "  → 0.2% of page\n",
      "  → 0.16% of page\n"
     ]
    },
    {
     "name": "stderr",
     "output_type": "stream",
     "text": [
      "Processing pages:  31%|███       | 26/84 [00:08<00:15,  3.74it/s]"
     ]
    },
    {
     "name": "stdout",
     "output_type": "stream",
     "text": [
      "🗑️ Skipped small image on page 25: 0.97% of page\n",
      "🗑️ Skipped small image on page 25: 0.2% of page\n",
      "🗑️ Skipped small image on page 25: 0.16% of page\n"
     ]
    },
    {
     "name": "stderr",
     "output_type": "stream",
     "text": [
      "Processing pages:  32%|███▏      | 27/84 [00:08<00:15,  3.60it/s]"
     ]
    },
    {
     "name": "stdout",
     "output_type": "stream",
     "text": [
      "[Page 26] 3 images found\n",
      "  → 0.2% of page\n",
      "  → 0.97% of page\n",
      "  → 0.2% of page\n",
      "🗑️ Skipped small image on page 26: 0.2% of page\n",
      "🗑️ Skipped small image on page 26: 0.97% of page\n",
      "🗑️ Skipped small image on page 26: 0.2% of page\n"
     ]
    },
    {
     "name": "stderr",
     "output_type": "stream",
     "text": [
      "Processing pages:  33%|███▎      | 28/84 [00:09<00:17,  3.28it/s]"
     ]
    },
    {
     "name": "stdout",
     "output_type": "stream",
     "text": [
      "[Page 27] 4 images found\n",
      "  → 0.97% of page\n",
      "  → 0.2% of page\n",
      "  → 5.7% of page\n",
      "  → 3.69% of page\n",
      "🗑️ Skipped small image on page 27: 0.97% of page\n",
      "🗑️ Skipped small image on page 27: 0.2% of page\n"
     ]
    },
    {
     "name": "stderr",
     "output_type": "stream",
     "text": [
      "Processing pages:  35%|███▍      | 29/84 [00:09<00:15,  3.54it/s]"
     ]
    },
    {
     "name": "stdout",
     "output_type": "stream",
     "text": [
      "[Page 28] 8 images found\n",
      "  → 0.2% of page\n",
      "  → 0.97% of page\n",
      "  → 0.16% of page\n",
      "  → 0.2% of page\n",
      "  → 0.2% of page\n",
      "  → 0.16% of page\n",
      "  → 3.65% of page\n",
      "  → 1.62% of page\n",
      "🗑️ Skipped small image on page 28: 0.2% of page\n",
      "🗑️ Skipped small image on page 28: 0.97% of page\n",
      "🗑️ Skipped small image on page 28: 0.16% of page\n",
      "🗑️ Skipped small image on page 28: 0.2% of page\n"
     ]
    },
    {
     "name": "stderr",
     "output_type": "stream",
     "text": [
      "Processing pages:  36%|███▌      | 30/84 [00:09<00:15,  3.43it/s]"
     ]
    },
    {
     "name": "stdout",
     "output_type": "stream",
     "text": [
      "[Page 29] 5 images found\n",
      "  → 0.97% of page\n",
      "  → 0.2% of page\n",
      "  → 6.13% of page\n",
      "  → 2.44% of page\n",
      "  → 4.41% of page\n",
      "🗑️ Skipped small image on page 29: 0.97% of page\n",
      "🗑️ Skipped small image on page 29: 0.2% of page\n"
     ]
    },
    {
     "name": "stderr",
     "output_type": "stream",
     "text": [
      "Processing pages:  37%|███▋      | 31/84 [00:10<00:17,  3.05it/s]"
     ]
    },
    {
     "name": "stdout",
     "output_type": "stream",
     "text": [
      "[Page 30] 4 images found\n",
      "  → 0.2% of page\n",
      "  → 0.97% of page\n",
      "  → 4.7% of page\n",
      "  → 5.46% of page\n",
      "🗑️ Skipped small image on page 30: 0.2% of page\n",
      "🗑️ Skipped small image on page 30: 0.97% of page\n"
     ]
    },
    {
     "name": "stderr",
     "output_type": "stream",
     "text": [
      "Processing pages:  38%|███▊      | 32/84 [00:10<00:18,  2.81it/s]"
     ]
    },
    {
     "name": "stdout",
     "output_type": "stream",
     "text": [
      "[Page 31] 3 images found\n",
      "  → 0.97% of page\n",
      "  → 0.2% of page\n",
      "  → 14.99% of page\n",
      "🗑️ Skipped small image on page 31: 0.97% of page\n",
      "🗑️ Skipped small image on page 31: 0.2% of page\n"
     ]
    },
    {
     "name": "stderr",
     "output_type": "stream",
     "text": [
      "Processing pages:  39%|███▉      | 33/84 [00:11<00:18,  2.71it/s]"
     ]
    },
    {
     "name": "stdout",
     "output_type": "stream",
     "text": [
      "[Page 32] 4 images found\n",
      "  → 0.2% of page\n",
      "  → 0.97% of page\n",
      "  → 3.78% of page\n",
      "  → 4.91% of page\n",
      "🗑️ Skipped small image on page 32: 0.2% of page\n",
      "🗑️ Skipped small image on page 32: 0.97% of page\n"
     ]
    },
    {
     "name": "stderr",
     "output_type": "stream",
     "text": [
      "Processing pages:  40%|████      | 34/84 [00:11<00:20,  2.47it/s]"
     ]
    },
    {
     "name": "stdout",
     "output_type": "stream",
     "text": [
      "[Page 33] 5 images found\n",
      "  → 0.97% of page\n",
      "  → 0.2% of page\n",
      "  → 5.89% of page\n",
      "  → 6.92% of page\n",
      "  → 8.44% of page\n",
      "🗑️ Skipped small image on page 33: 0.97% of page\n",
      "🗑️ Skipped small image on page 33: 0.2% of page\n"
     ]
    },
    {
     "name": "stderr",
     "output_type": "stream",
     "text": [
      "Processing pages:  42%|████▏     | 35/84 [00:11<00:17,  2.73it/s]"
     ]
    },
    {
     "name": "stdout",
     "output_type": "stream",
     "text": [
      "[Page 34] 5 images found\n",
      "  → 0.2% of page\n",
      "  → 0.97% of page\n",
      "  → 0.16% of page\n",
      "  → 10.3% of page\n",
      "  → 3.61% of page\n",
      "🗑️ Skipped small image on page 34: 0.2% of page\n",
      "🗑️ Skipped small image on page 34: 0.97% of page\n",
      "🗑️ Skipped small image on page 34: 0.16% of page\n"
     ]
    },
    {
     "name": "stderr",
     "output_type": "stream",
     "text": [
      "Processing pages:  43%|████▎     | 36/84 [00:12<00:18,  2.63it/s]"
     ]
    },
    {
     "name": "stdout",
     "output_type": "stream",
     "text": [
      "[Page 35] 2 images found\n",
      "  → 0.97% of page\n",
      "  → 0.2% of page\n",
      "🗑️ Skipped small image on page 35: 0.97% of page\n",
      "🗑️ Skipped small image on page 35: 0.2% of page\n"
     ]
    },
    {
     "name": "stderr",
     "output_type": "stream",
     "text": [
      "Processing pages:  44%|████▍     | 37/84 [00:12<00:19,  2.43it/s]"
     ]
    },
    {
     "name": "stdout",
     "output_type": "stream",
     "text": [
      "[Page 36] 2 images found\n",
      "  → 0.2% of page\n",
      "  → 0.97% of page\n",
      "🗑️ Skipped small image on page 36: 0.2% of page\n",
      "🗑️ Skipped small image on page 36: 0.97% of page\n"
     ]
    },
    {
     "name": "stderr",
     "output_type": "stream",
     "text": [
      "Processing pages:  45%|████▌     | 38/84 [00:13<00:20,  2.27it/s]"
     ]
    },
    {
     "name": "stdout",
     "output_type": "stream",
     "text": [
      "[Page 37] 4 images found\n",
      "  → 0.97% of page\n",
      "  → 0.2% of page\n",
      "  → 0.16% of page\n",
      "  → 0.13% of page\n",
      "🗑️ Skipped small image on page 37: 0.97% of page\n",
      "🗑️ Skipped small image on page 37: 0.2% of page\n",
      "🗑️ Skipped small image on page 37: 0.16% of page\n",
      "🗑️ Skipped small image on page 37: 0.13% of page\n"
     ]
    },
    {
     "name": "stderr",
     "output_type": "stream",
     "text": [
      "Processing pages:  46%|████▋     | 39/84 [00:13<00:19,  2.36it/s]"
     ]
    },
    {
     "name": "stdout",
     "output_type": "stream",
     "text": [
      "[Page 38] 5 images found\n",
      "  → 0.2% of page\n",
      "  → 0.97% of page\n",
      "  → 0.16% of page\n",
      "  → 0.16% of page\n",
      "  → 4.77% of page\n",
      "🗑️ Skipped small image on page 38: 0.2% of page\n",
      "🗑️ Skipped small image on page 38: 0.97% of page\n",
      "🗑️ Skipped small image on page 38: 0.16% of page\n"
     ]
    },
    {
     "name": "stderr",
     "output_type": "stream",
     "text": [
      "Processing pages:  48%|████▊     | 40/84 [00:14<00:17,  2.48it/s]"
     ]
    },
    {
     "name": "stdout",
     "output_type": "stream",
     "text": [
      "[Page 39] 3 images found\n",
      "  → 0.97% of page\n",
      "  → 0.2% of page\n",
      "  → 5.7% of page\n",
      "🗑️ Skipped small image on page 39: 0.97% of page\n",
      "🗑️ Skipped small image on page 39: 0.2% of page\n"
     ]
    },
    {
     "name": "stderr",
     "output_type": "stream",
     "text": [
      "Processing pages:  49%|████▉     | 41/84 [00:14<00:17,  2.46it/s]"
     ]
    },
    {
     "name": "stdout",
     "output_type": "stream",
     "text": [
      "[Page 40] 4 images found\n",
      "  → 0.2% of page\n",
      "  → 0.97% of page\n",
      "  → 0.16% of page\n",
      "  → 0.16% of page\n",
      "🗑️ Skipped small image on page 40: 0.2% of page\n",
      "🗑️ Skipped small image on page 40: 0.97% of page\n",
      "🗑️ Skipped small image on page 40: 0.16% of page\n"
     ]
    },
    {
     "name": "stderr",
     "output_type": "stream",
     "text": [
      "Processing pages:  50%|█████     | 42/84 [00:14<00:18,  2.31it/s]"
     ]
    },
    {
     "name": "stdout",
     "output_type": "stream",
     "text": [
      "[Page 41] 2 images found\n",
      "  → 0.97% of page\n",
      "  → 0.2% of page\n",
      "🗑️ Skipped small image on page 41: 0.97% of page\n",
      "🗑️ Skipped small image on page 41: 0.2% of page\n"
     ]
    },
    {
     "name": "stderr",
     "output_type": "stream",
     "text": [
      "Processing pages:  51%|█████     | 43/84 [00:15<00:17,  2.34it/s]"
     ]
    },
    {
     "name": "stdout",
     "output_type": "stream",
     "text": [
      "[Page 42] 5 images found\n",
      "  → 0.2% of page\n",
      "  → 0.97% of page\n",
      "  → 0.14% of page\n",
      "  → 0.14% of page\n",
      "  → 7.41% of page\n",
      "🗑️ Skipped small image on page 42: 0.2% of page\n",
      "🗑️ Skipped small image on page 42: 0.97% of page\n",
      "🗑️ Skipped small image on page 42: 0.14% of page\n"
     ]
    },
    {
     "name": "stderr",
     "output_type": "stream",
     "text": [
      "Processing pages:  52%|█████▏    | 44/84 [00:15<00:16,  2.40it/s]"
     ]
    },
    {
     "name": "stdout",
     "output_type": "stream",
     "text": [
      "[Page 43] 3 images found\n",
      "  → 0.97% of page\n",
      "  → 0.2% of page\n",
      "  → 7.4% of page\n",
      "🗑️ Skipped small image on page 43: 0.97% of page\n",
      "🗑️ Skipped small image on page 43: 0.2% of page\n"
     ]
    },
    {
     "name": "stderr",
     "output_type": "stream",
     "text": [
      "Processing pages:  54%|█████▎    | 45/84 [00:16<00:16,  2.41it/s]"
     ]
    },
    {
     "name": "stdout",
     "output_type": "stream",
     "text": [
      "[Page 44] 3 images found\n",
      "  → 0.2% of page\n",
      "  → 0.97% of page\n",
      "  → 0.16% of page\n",
      "🗑️ Skipped small image on page 44: 0.2% of page\n",
      "🗑️ Skipped small image on page 44: 0.97% of page\n",
      "🗑️ Skipped small image on page 44: 0.16% of page\n"
     ]
    },
    {
     "name": "stderr",
     "output_type": "stream",
     "text": [
      "Processing pages:  55%|█████▍    | 46/84 [00:16<00:14,  2.63it/s]"
     ]
    },
    {
     "name": "stdout",
     "output_type": "stream",
     "text": [
      "[Page 45] 7 images found\n",
      "  → 0.97% of page\n",
      "  → 0.2% of page\n",
      "  → 0.2% of page\n",
      "  → 0.2% of page\n",
      "  → 0.16% of page\n",
      "  → 0.16% of page\n",
      "  → 2.99% of page\n",
      "🗑️ Skipped small image on page 45: 0.97% of page\n",
      "🗑️ Skipped small image on page 45: 0.2% of page\n",
      "🗑️ Skipped small image on page 45: 0.2% of page\n",
      "🗑️ Skipped small image on page 45: 0.16% of page\n"
     ]
    },
    {
     "name": "stderr",
     "output_type": "stream",
     "text": [
      "Processing pages:  56%|█████▌    | 47/84 [00:16<00:13,  2.83it/s]"
     ]
    },
    {
     "name": "stdout",
     "output_type": "stream",
     "text": [
      "[Page 46] 5 images found\n",
      "  → 0.2% of page\n",
      "  → 0.97% of page\n",
      "  → 0.16% of page\n",
      "  → 8.53% of page\n",
      "  → 0.16% of page\n",
      "🗑️ Skipped small image on page 46: 0.2% of page\n",
      "🗑️ Skipped small image on page 46: 0.97% of page\n",
      "🗑️ Skipped small image on page 46: 0.16% of page\n"
     ]
    },
    {
     "name": "stderr",
     "output_type": "stream",
     "text": [
      "Processing pages:  57%|█████▋    | 48/84 [00:17<00:12,  2.79it/s]"
     ]
    },
    {
     "name": "stdout",
     "output_type": "stream",
     "text": [
      "[Page 47] 3 images found\n",
      "  → 0.97% of page\n",
      "  → 0.2% of page\n",
      "  → 0.2% of page\n",
      "🗑️ Skipped small image on page 47: 0.97% of page\n",
      "🗑️ Skipped small image on page 47: 0.2% of page\n",
      "🗑️ Skipped small image on page 47: 0.2% of page\n"
     ]
    },
    {
     "name": "stderr",
     "output_type": "stream",
     "text": [
      "Processing pages:  58%|█████▊    | 49/84 [00:17<00:12,  2.71it/s]"
     ]
    },
    {
     "name": "stdout",
     "output_type": "stream",
     "text": [
      "[Page 48] 4 images found\n",
      "  → 0.2% of page\n",
      "  → 0.97% of page\n",
      "  → 7.58% of page\n",
      "  → 6.19% of page\n",
      "🗑️ Skipped small image on page 48: 0.2% of page\n",
      "🗑️ Skipped small image on page 48: 0.97% of page\n"
     ]
    },
    {
     "name": "stderr",
     "output_type": "stream",
     "text": [
      "Processing pages:  60%|█████▉    | 50/84 [00:17<00:11,  2.91it/s]"
     ]
    },
    {
     "name": "stdout",
     "output_type": "stream",
     "text": [
      "[Page 49] 5 images found\n",
      "  → 0.97% of page\n",
      "  → 0.2% of page\n",
      "  → 10.84% of page\n",
      "  → 0.2% of page\n",
      "  → 4.51% of page\n",
      "🗑️ Skipped small image on page 49: 0.97% of page\n",
      "🗑️ Skipped small image on page 49: 0.2% of page\n",
      "🗑️ Skipped small image on page 49: 0.2% of page\n"
     ]
    },
    {
     "name": "stderr",
     "output_type": "stream",
     "text": [
      "Processing pages:  61%|██████    | 51/84 [00:18<00:10,  3.12it/s]"
     ]
    },
    {
     "name": "stdout",
     "output_type": "stream",
     "text": [
      "[Page 50] 4 images found\n",
      "  → 0.2% of page\n",
      "  → 0.97% of page\n",
      "  → 0.2% of page\n",
      "  → 0.16% of page\n",
      "🗑️ Skipped small image on page 50: 0.2% of page\n",
      "🗑️ Skipped small image on page 50: 0.97% of page\n",
      "🗑️ Skipped small image on page 50: 0.2% of page\n",
      "🗑️ Skipped small image on page 50: 0.16% of page\n"
     ]
    },
    {
     "name": "stderr",
     "output_type": "stream",
     "text": [
      "Processing pages:  62%|██████▏   | 52/84 [00:18<00:09,  3.28it/s]"
     ]
    },
    {
     "name": "stdout",
     "output_type": "stream",
     "text": [
      "[Page 51] 4 images found\n",
      "  → 0.97% of page\n",
      "  → 0.2% of page\n",
      "  → 0.16% of page\n",
      "  → 0.16% of page\n",
      "🗑️ Skipped small image on page 51: 0.97% of page\n",
      "🗑️ Skipped small image on page 51: 0.2% of page\n",
      "🗑️ Skipped small image on page 51: 0.16% of page\n"
     ]
    },
    {
     "name": "stderr",
     "output_type": "stream",
     "text": [
      "Processing pages:  63%|██████▎   | 53/84 [00:18<00:11,  2.74it/s]"
     ]
    },
    {
     "name": "stdout",
     "output_type": "stream",
     "text": [
      "[Page 52] 3 images found\n",
      "  → 0.2% of page\n",
      "  → 0.97% of page\n",
      "  → 27.93% of page\n",
      "🗑️ Skipped small image on page 52: 0.2% of page\n",
      "🗑️ Skipped small image on page 52: 0.97% of page\n"
     ]
    },
    {
     "name": "stderr",
     "output_type": "stream",
     "text": [
      "Processing pages:  64%|██████▍   | 54/84 [00:19<00:11,  2.68it/s]"
     ]
    },
    {
     "name": "stdout",
     "output_type": "stream",
     "text": [
      "[Page 53] 4 images found\n",
      "  → 0.97% of page\n",
      "  → 0.2% of page\n",
      "  → 0.16% of page\n",
      "  → 3.69% of page\n",
      "🗑️ Skipped small image on page 53: 0.97% of page\n",
      "🗑️ Skipped small image on page 53: 0.2% of page\n",
      "🗑️ Skipped small image on page 53: 0.16% of page\n"
     ]
    },
    {
     "name": "stderr",
     "output_type": "stream",
     "text": [
      "Processing pages:  65%|██████▌   | 55/84 [00:19<00:10,  2.68it/s]"
     ]
    },
    {
     "name": "stdout",
     "output_type": "stream",
     "text": [
      "[Page 54] 4 images found\n",
      "  → 0.2% of page\n",
      "  → 0.97% of page\n",
      "  → 3.39% of page\n",
      "  → 5.13% of page\n",
      "🗑️ Skipped small image on page 54: 0.2% of page\n",
      "🗑️ Skipped small image on page 54: 0.97% of page\n"
     ]
    },
    {
     "name": "stderr",
     "output_type": "stream",
     "text": [
      "Processing pages:  67%|██████▋   | 56/84 [00:19<00:10,  2.77it/s]"
     ]
    },
    {
     "name": "stdout",
     "output_type": "stream",
     "text": [
      "[Page 55] 3 images found\n",
      "  → 0.97% of page\n",
      "  → 0.2% of page\n",
      "  → 6.79% of page\n",
      "🗑️ Skipped small image on page 55: 0.97% of page\n",
      "🗑️ Skipped small image on page 55: 0.2% of page\n"
     ]
    },
    {
     "name": "stderr",
     "output_type": "stream",
     "text": [
      "Processing pages:  68%|██████▊   | 57/84 [00:20<00:11,  2.38it/s]"
     ]
    },
    {
     "name": "stdout",
     "output_type": "stream",
     "text": [
      "[Page 56] 5 images found\n",
      "  → 0.2% of page\n",
      "  → 0.97% of page\n",
      "  → 18.98% of page\n",
      "  → 18.98% of page\n",
      "  → 18.97% of page\n",
      "✅ Detected composite diagram on page 56 covering 56.93%\n"
     ]
    },
    {
     "name": "stderr",
     "output_type": "stream",
     "text": [
      "Processing pages:  69%|██████▉   | 58/84 [00:20<00:11,  2.25it/s]"
     ]
    },
    {
     "name": "stdout",
     "output_type": "stream",
     "text": [
      "[Page 57] 5 images found\n",
      "  → 0.97% of page\n",
      "  → 0.2% of page\n",
      "  → 18.13% of page\n",
      "  → 18.13% of page\n",
      "  → 18.13% of page\n",
      "✅ Detected composite diagram on page 57 covering 54.38%\n"
     ]
    },
    {
     "name": "stderr",
     "output_type": "stream",
     "text": [
      "Processing pages:  70%|███████   | 59/84 [00:21<00:10,  2.34it/s]"
     ]
    },
    {
     "name": "stdout",
     "output_type": "stream",
     "text": [
      "[Page 58] 3 images found\n",
      "  → 0.2% of page\n",
      "  → 0.97% of page\n",
      "  → 16.9% of page\n",
      "🗑️ Skipped small image on page 58: 0.2% of page\n",
      "🗑️ Skipped small image on page 58: 0.97% of page\n"
     ]
    },
    {
     "name": "stderr",
     "output_type": "stream",
     "text": [
      "Processing pages:  71%|███████▏  | 60/84 [00:21<00:10,  2.40it/s]"
     ]
    },
    {
     "name": "stdout",
     "output_type": "stream",
     "text": [
      "[Page 59] 2 images found\n",
      "  → 0.97% of page\n",
      "  → 0.2% of page\n",
      "🗑️ Skipped small image on page 59: 0.97% of page\n",
      "🗑️ Skipped small image on page 59: 0.2% of page\n"
     ]
    },
    {
     "name": "stderr",
     "output_type": "stream",
     "text": [
      "Processing pages:  73%|███████▎  | 61/84 [00:22<00:10,  2.13it/s]"
     ]
    },
    {
     "name": "stdout",
     "output_type": "stream",
     "text": [
      "[Page 60] 5 images found\n",
      "  → 0.2% of page\n",
      "  → 0.97% of page\n",
      "  → 21.03% of page\n",
      "  → 21.03% of page\n",
      "  → 21.02% of page\n",
      "✅ Detected composite diagram on page 60 covering 63.08%\n"
     ]
    },
    {
     "name": "stderr",
     "output_type": "stream",
     "text": [
      "Processing pages:  74%|███████▍  | 62/84 [00:22<00:11,  1.98it/s]"
     ]
    },
    {
     "name": "stdout",
     "output_type": "stream",
     "text": [
      "[Page 61] 5 images found\n",
      "  → 0.97% of page\n",
      "  → 0.2% of page\n",
      "  → 20.55% of page\n",
      "  → 20.55% of page\n",
      "  → 20.54% of page\n",
      "✅ Detected composite diagram on page 61 covering 61.63%\n"
     ]
    },
    {
     "name": "stderr",
     "output_type": "stream",
     "text": [
      "Processing pages:  75%|███████▌  | 63/84 [00:23<00:10,  2.04it/s]"
     ]
    },
    {
     "name": "stdout",
     "output_type": "stream",
     "text": [
      "[Page 62] 4 images found\n",
      "  → 0.2% of page\n",
      "  → 0.97% of page\n",
      "  → 18.85% of page\n",
      "  → 18.85% of page\n",
      "🗑️ Skipped small image on page 62: 0.2% of page\n",
      "🗑️ Skipped small image on page 62: 0.97% of page\n"
     ]
    },
    {
     "name": "stderr",
     "output_type": "stream",
     "text": [
      "Processing pages:  76%|███████▌  | 64/84 [00:23<00:09,  2.02it/s]"
     ]
    },
    {
     "name": "stdout",
     "output_type": "stream",
     "text": [
      "[Page 63] 2 images found\n",
      "  → 0.97% of page\n",
      "  → 0.2% of page\n",
      "🗑️ Skipped small image on page 63: 0.97% of page\n",
      "🗑️ Skipped small image on page 63: 0.2% of page\n"
     ]
    },
    {
     "name": "stderr",
     "output_type": "stream",
     "text": [
      "Processing pages:  77%|███████▋  | 65/84 [00:24<00:09,  2.01it/s]"
     ]
    },
    {
     "name": "stdout",
     "output_type": "stream",
     "text": [
      "[Page 64] 4 images found\n",
      "  → 0.2% of page\n",
      "  → 0.97% of page\n",
      "  → 20.32% of page\n",
      "  → 20.32% of page\n",
      "✅ Detected composite diagram on page 64 covering 40.64%\n"
     ]
    },
    {
     "name": "stderr",
     "output_type": "stream",
     "text": [
      "Processing pages:  79%|███████▊  | 66/84 [00:24<00:09,  1.94it/s]"
     ]
    },
    {
     "name": "stdout",
     "output_type": "stream",
     "text": [
      "[Page 65] 5 images found\n",
      "  → 0.97% of page\n",
      "  → 0.2% of page\n",
      "  → 20.12% of page\n",
      "  → 20.12% of page\n",
      "  → 20.1% of page\n",
      "✅ Detected composite diagram on page 65 covering 60.34%\n"
     ]
    },
    {
     "name": "stderr",
     "output_type": "stream",
     "text": [
      "Processing pages:  80%|███████▉  | 67/84 [00:25<00:08,  1.91it/s]"
     ]
    },
    {
     "name": "stdout",
     "output_type": "stream",
     "text": [
      "[Page 66] 5 images found\n",
      "  → 0.2% of page\n",
      "  → 0.97% of page\n",
      "  → 19.32% of page\n",
      "  → 19.32% of page\n",
      "  → 19.31% of page\n",
      "✅ Detected composite diagram on page 66 covering 57.95%\n"
     ]
    },
    {
     "name": "stderr",
     "output_type": "stream",
     "text": [
      "Processing pages:  81%|████████  | 68/84 [00:25<00:08,  1.99it/s]"
     ]
    },
    {
     "name": "stdout",
     "output_type": "stream",
     "text": [
      "[Page 67] 2 images found\n",
      "  → 0.97% of page\n",
      "  → 0.2% of page\n",
      "🗑️ Skipped small image on page 67: 0.97% of page\n",
      "🗑️ Skipped small image on page 67: 0.2% of page\n"
     ]
    },
    {
     "name": "stderr",
     "output_type": "stream",
     "text": [
      "Processing pages:  82%|████████▏ | 69/84 [00:26<00:07,  2.11it/s]"
     ]
    },
    {
     "name": "stdout",
     "output_type": "stream",
     "text": [
      "[Page 68] 2 images found\n",
      "  → 0.2% of page\n",
      "  → 0.97% of page\n",
      "🗑️ Skipped small image on page 68: 0.2% of page\n",
      "🗑️ Skipped small image on page 68: 0.97% of page\n"
     ]
    },
    {
     "name": "stderr",
     "output_type": "stream",
     "text": [
      "Processing pages:  83%|████████▎ | 70/84 [00:26<00:07,  1.96it/s]"
     ]
    },
    {
     "name": "stdout",
     "output_type": "stream",
     "text": [
      "[Page 69] 5 images found\n",
      "  → 0.97% of page\n",
      "  → 0.2% of page\n",
      "  → 20.89% of page\n",
      "  → 20.89% of page\n",
      "  → 20.88% of page\n",
      "✅ Detected composite diagram on page 69 covering 62.67%\n"
     ]
    },
    {
     "name": "stderr",
     "output_type": "stream",
     "text": [
      "Processing pages:  85%|████████▍ | 71/84 [00:27<00:06,  1.92it/s]"
     ]
    },
    {
     "name": "stdout",
     "output_type": "stream",
     "text": [
      "[Page 70] 5 images found\n",
      "  → 0.2% of page\n",
      "  → 0.97% of page\n",
      "  → 20.39% of page\n",
      "  → 20.39% of page\n",
      "  → 20.37% of page\n",
      "✅ Detected composite diagram on page 70 covering 61.14%\n"
     ]
    },
    {
     "name": "stderr",
     "output_type": "stream",
     "text": [
      "Processing pages:  86%|████████▌ | 72/84 [00:28<00:06,  1.92it/s]"
     ]
    },
    {
     "name": "stdout",
     "output_type": "stream",
     "text": [
      "[Page 71] 2 images found\n",
      "  → 0.97% of page\n",
      "  → 0.2% of page\n",
      "🗑️ Skipped small image on page 71: 0.97% of page\n",
      "🗑️ Skipped small image on page 71: 0.2% of page\n"
     ]
    },
    {
     "name": "stderr",
     "output_type": "stream",
     "text": [
      "Processing pages:  87%|████████▋ | 73/84 [00:28<00:04,  2.23it/s]"
     ]
    },
    {
     "name": "stdout",
     "output_type": "stream",
     "text": [
      "[Page 72] 2 images found\n",
      "  → 0.2% of page\n",
      "  → 0.97% of page\n",
      "🗑️ Skipped small image on page 72: 0.2% of page\n",
      "🗑️ Skipped small image on page 72: 0.97% of page\n"
     ]
    },
    {
     "name": "stderr",
     "output_type": "stream",
     "text": [
      "Processing pages:  88%|████████▊ | 74/84 [00:28<00:04,  2.10it/s]"
     ]
    },
    {
     "name": "stdout",
     "output_type": "stream",
     "text": [
      "[Page 73] 5 images found\n",
      "  → 0.97% of page\n",
      "  → 0.2% of page\n",
      "  → 19.93% of page\n",
      "  → 19.93% of page\n",
      "  → 19.92% of page\n",
      "✅ Detected composite diagram on page 73 covering 59.79%\n"
     ]
    },
    {
     "name": "stderr",
     "output_type": "stream",
     "text": [
      "Processing pages:  89%|████████▉ | 75/84 [00:29<00:04,  1.91it/s]"
     ]
    },
    {
     "name": "stdout",
     "output_type": "stream",
     "text": [
      "[Page 74] 5 images found\n",
      "  → 0.2% of page\n",
      "  → 0.97% of page\n",
      "  → 19.95% of page\n",
      "  → 19.95% of page\n",
      "  → 19.95% of page\n",
      "✅ Detected composite diagram on page 74 covering 59.85%\n"
     ]
    },
    {
     "name": "stderr",
     "output_type": "stream",
     "text": [
      "Processing pages:  90%|█████████ | 76/84 [00:30<00:04,  1.86it/s]"
     ]
    },
    {
     "name": "stdout",
     "output_type": "stream",
     "text": [
      "[Page 75] 2 images found\n",
      "  → 0.97% of page\n",
      "  → 0.2% of page\n",
      "🗑️ Skipped small image on page 75: 0.97% of page\n",
      "🗑️ Skipped small image on page 75: 0.2% of page\n"
     ]
    },
    {
     "name": "stderr",
     "output_type": "stream",
     "text": [
      "Processing pages:  92%|█████████▏| 77/84 [00:30<00:03,  1.84it/s]"
     ]
    },
    {
     "name": "stdout",
     "output_type": "stream",
     "text": [
      "[Page 76] 5 images found\n",
      "  → 0.2% of page\n",
      "  → 0.97% of page\n",
      "  → 20.13% of page\n",
      "  → 20.13% of page\n",
      "  → 20.13% of page\n",
      "✅ Detected composite diagram on page 76 covering 60.38%\n"
     ]
    },
    {
     "name": "stderr",
     "output_type": "stream",
     "text": [
      "Processing pages:  93%|█████████▎| 78/84 [00:31<00:03,  1.94it/s]"
     ]
    },
    {
     "name": "stdout",
     "output_type": "stream",
     "text": [
      "[Page 77] 3 images found\n",
      "  → 0.97% of page\n",
      "  → 0.2% of page\n",
      "  → 18.75% of page\n",
      "🗑️ Skipped small image on page 77: 0.97% of page\n",
      "🗑️ Skipped small image on page 77: 0.2% of page\n"
     ]
    },
    {
     "name": "stderr",
     "output_type": "stream",
     "text": [
      "Processing pages:  94%|█████████▍| 79/84 [00:31<00:02,  1.94it/s]"
     ]
    },
    {
     "name": "stdout",
     "output_type": "stream",
     "text": [
      "[Page 78] 5 images found\n",
      "  → 0.2% of page\n",
      "  → 0.97% of page\n",
      "  → 23.71% of page\n",
      "  → 15.71% of page\n",
      "  → 15.71% of page\n",
      "✅ Detected composite diagram on page 78 covering 55.13%\n"
     ]
    },
    {
     "name": "stderr",
     "output_type": "stream",
     "text": [
      "Processing pages:  95%|█████████▌| 80/84 [00:32<00:02,  1.97it/s]"
     ]
    },
    {
     "name": "stdout",
     "output_type": "stream",
     "text": [
      "[Page 79] 2 images found\n",
      "  → 0.97% of page\n",
      "  → 0.2% of page\n",
      "🗑️ Skipped small image on page 79: 0.97% of page\n",
      "🗑️ Skipped small image on page 79: 0.2% of page\n"
     ]
    },
    {
     "name": "stderr",
     "output_type": "stream",
     "text": [
      "Processing pages:  96%|█████████▋| 81/84 [00:32<00:01,  2.37it/s]"
     ]
    },
    {
     "name": "stdout",
     "output_type": "stream",
     "text": [
      "[Page 80] 3 images found\n",
      "  → 0.2% of page\n",
      "  → 0.97% of page\n",
      "  → 0.16% of page\n",
      "🗑️ Skipped small image on page 80: 0.2% of page\n",
      "🗑️ Skipped small image on page 80: 0.97% of page\n",
      "🗑️ Skipped small image on page 80: 0.16% of page\n"
     ]
    },
    {
     "name": "stderr",
     "output_type": "stream",
     "text": [
      "Processing pages:  98%|█████████▊| 82/84 [00:32<00:00,  2.49it/s]"
     ]
    },
    {
     "name": "stdout",
     "output_type": "stream",
     "text": [
      "[Page 81] 2 images found\n",
      "  → 0.97% of page\n",
      "  → 0.2% of page\n",
      "🗑️ Skipped small image on page 81: 0.97% of page\n",
      "🗑️ Skipped small image on page 81: 0.2% of page\n"
     ]
    },
    {
     "name": "stderr",
     "output_type": "stream",
     "text": [
      "Processing pages:  99%|█████████▉| 83/84 [00:32<00:00,  2.66it/s]"
     ]
    },
    {
     "name": "stdout",
     "output_type": "stream",
     "text": [
      "[Page 82] 3 images found\n",
      "  → 0.2% of page\n",
      "  → 0.97% of page\n",
      "  → 35.03% of page\n",
      "🗑️ Skipped small image on page 82: 0.2% of page\n",
      "🗑️ Skipped small image on page 82: 0.97% of page\n"
     ]
    },
    {
     "name": "stderr",
     "output_type": "stream",
     "text": [
      "Processing pages: 100%|██████████| 84/84 [00:33<00:00,  2.53it/s]"
     ]
    },
    {
     "name": "stdout",
     "output_type": "stream",
     "text": [
      "[Page 83] 3 images found\n",
      "  → 0.97% of page\n",
      "  → 0.2% of page\n",
      "  → 35.15% of page\n",
      "🗑️ Skipped small image on page 83: 0.97% of page\n",
      "🗑️ Skipped small image on page 83: 0.2% of page\n",
      "\n",
      "🧾 Pages with full-page diagrams:\n",
      "[56, 57, 60, 61, 64, 65, 66, 69, 70, 73, 74, 76, 78]\n",
      "✅ finished – extracted 534 items\n",
      "\n",
      "[Sample text] OPERATION AND\n",
      "MAINTENANCE MANUAL\n",
      "\n",
      "\n",
      "\n",
      "\n",
      "\n",
      "           Bench Lathe\n",
      "    Art. T999/230V – T999/230V3A\n",
      "    Art. T999/400V - T999/400V3Afervi.com\n",
      "\n",
      "\n",
      "\n",
      "\n",
      "               TRANSLATION OF THE ORIGINAL INSTRUCTIONS\n",
      "[Sample image] data/images/doc2_img_0_0_515.png\n"
     ]
    },
    {
     "name": "stderr",
     "output_type": "stream",
     "text": [
      "\n"
     ]
    }
   ],
   "source": [
    "\n",
    "# ---------------- RUN ----------------\n",
    "items = extract_pdf(PDF_PATH)\n",
    "\n",
    "# quick sanity prints\n",
    "first_text  = next(i for i in items if i[\"type\"] == \"text\")\n",
    "first_image = next(i for i in items if i[\"type\"] == \"image\" or i[\"type\"] == \"page\")\n",
    "print(\"\\n[Sample text]\", first_text[\"text\"][:200])\n",
    "print(\"[Sample image]\", first_image[\"path\"])\n"
   ]
  },
  {
   "cell_type": "code",
   "execution_count": 11,
   "metadata": {},
   "outputs": [],
   "source": [
    "# !pip install --upgrade openai tqdm  pillow  # pillow only for quick mime-type sniffing\n",
    "from pathlib import Path\n",
    "import base64, mimetypes, uuid, os, time\n",
    "from tqdm import tqdm\n",
    "\n",
    "import openai                     # v1.14+\n",
    "from langchain_openai import OpenAIEmbeddings\n",
    "from pinecone import Pinecone\n",
    "\n",
    "openai.api_key      = os.getenv(\"OPENAI_API_KEY\")\n",
    "PINECONE_API_KEY    = os.getenv(\"PINECONE_API_KEY\")\n",
    "\n",
    "# ── embedding & chat models (adjust if your account differs) ────────────\n",
    "EMBED_MODEL = \"text-embedding-3-large\"    # 1536-D, GPT-4 family\n",
    "CHAT_MODEL  = \"gpt-4o-mini\"               # vision-capable\n",
    "\n",
    "embeddings = OpenAIEmbeddings(model=EMBED_MODEL)\n",
    "\n",
    "PINECONE_API_KEY = os.getenv(\"PINECONE_API_KEY\")  # keep this\n",
    "\n",
    "pc = Pinecone(api_key=PINECONE_API_KEY)\n",
    "index_name = \"multimodal-manual\"\n",
    "\n",
    "if index_name not in pc.list_indexes().names():\n",
    "    pc.create_index(\n",
    "        name=index_name,\n",
    "        dimension=1536,  # or embeddings.embedding_dimension\n",
    "        metric=\"cosine\",\n",
    "        spec=ServerlessSpec(cloud=\"aws\", region=\"us-east-1\")\n",
    "    )\n",
    "\n",
    "index = pc.Index(index_name)\n"
   ]
  },
  {
   "cell_type": "code",
   "execution_count": 12,
   "metadata": {},
   "outputs": [],
   "source": [
    "def img_to_data_uri(path: Path) -> str:\n",
    "    mime, _ = mimetypes.guess_type(path)\n",
    "    b64 = base64.b64encode(path.read_bytes()).decode()\n",
    "    return f\"data:{mime or 'image/png'};base64,{b64}\"\n",
    "\n",
    "def caption_image(path: Path, retry: int = 3) -> str:\n",
    "    \"\"\"Return a single-sentence literal caption for the image.\"\"\"\n",
    "    data_uri = img_to_data_uri(path)\n",
    "    for attempt in range(retry):\n",
    "        try:\n",
    "            resp = openai.chat.completions.create(\n",
    "                model=CHAT_MODEL,\n",
    "                messages=[{\n",
    "                    \"role\": \"user\",\n",
    "                    \"content\": [\n",
    "                        {\"type\": \"text\",\n",
    "                         \"text\": \"Describe this image in one concise sentence, no interpretation.\"},\n",
    "                        {\"type\": \"image_url\", \"image_url\": {\"url\": data_uri}}\n",
    "                    ]\n",
    "                }],\n",
    "                max_tokens=60\n",
    "            )\n",
    "            return resp.choices[0].message.content.strip()\n",
    "        except openai.RateLimitError:\n",
    "            wait = 2 ** attempt\n",
    "            print(f\"rate-limited, retrying in {wait}s\"); time.sleep(wait)\n",
    "    return \"unavailable caption\"\n"
   ]
  },
  {
   "cell_type": "code",
   "execution_count": 13,
   "metadata": {},
   "outputs": [],
   "source": [
    "import json\n",
    "\n",
    "caption_cache_file = \"captions_cache.json\"\n",
    "caption_cache = {}\n",
    "\n",
    "# Load existing cache if present\n",
    "if Path(caption_cache_file).exists():\n",
    "    caption_cache = json.loads(Path(caption_cache_file).read_text())\n",
    "\n",
    "def caption_image_cached(path: Path) -> str:\n",
    "    key = str(path)\n",
    "    if key in caption_cache:\n",
    "        return caption_cache[key]\n",
    "    caption = caption_image(path)  # your existing GPT-4 captioner\n",
    "    caption_cache[key] = caption\n",
    "    Path(caption_cache_file).write_text(json.dumps(caption_cache, indent=2))\n",
    "    return caption\n"
   ]
  },
  {
   "cell_type": "code",
   "execution_count": null,
   "metadata": {},
   "outputs": [],
   "source": [
    "docs, meta, ids = [], [], []\n",
    "\n",
    "# 🧾 Build a quick index of text chunks by page\n",
    "text_by_page = {\n",
    "    obj[\"page\"]: obj[\"text\"].strip()\n",
    "    for obj in items if obj[\"type\"] == \"text\" and obj[\"text\"].strip()\n",
    "}\n",
    "\n",
    "# Prepare logs for captions and skipped pages\n",
    "captioned_pages = []\n",
    "skipped_pages = []\n",
    "\n",
    "for obj in tqdm(items, desc=\"Preparing docs\"):\n",
    "    text_repr = None\n",
    "\n",
    "    if obj[\"type\"] in {\"text\", \"table\"}:\n",
    "        text_repr = obj[\"text\"]\n",
    "\n",
    "    elif obj[\"type\"] == \"image\":\n",
    "        caption = caption_image_cached(Path(obj[\"path\"]))\n",
    "        text_repr = f\"[IMAGE] {caption}\"\n",
    "        obj[\"caption\"] = caption\n",
    "\n",
    "    elif obj[\"type\"] == \"page\":\n",
    "        page_num = obj[\"page\"]\n",
    "\n",
    "        # Skip captioning if meaningful text already exists for this page\n",
    "        if len(text_by_page.get(page_num, \"\")) >= 100:\n",
    "            skipped_pages.append(page_num)\n",
    "            continue  # page already covered by text chunk(s)\n",
    "\n",
    "        # If no text, caption the page image\n",
    "        caption = caption_image_cached(Path(obj[\"path\"]))\n",
    "        text_repr = f\"[PAGE IMAGE] {caption}\"\n",
    "        obj[\"caption\"] = caption\n",
    "        captioned_pages.append(page_num)\n",
    "\n",
    "    else:\n",
    "        continue  # unknown type\n",
    "\n",
    "    # If we have valid text_repr (text or caption), store it\n",
    "    if text_repr:\n",
    "        uid = str(uuid.uuid4())\n",
    "        ids.append(uid)\n",
    "        docs.append(text_repr)\n",
    "        meta.append({\n",
    "            \"type\": obj[\"type\"],\n",
    "            \"page\": obj[\"page\"],\n",
    "            \"path\": obj[\"path\"]\n",
    "        })\n",
    "\n",
    "# Log results of captioning vs skipping\n",
    "print(\"\\n---- Captioned Pages ----\")\n",
    "print(captioned_pages)\n",
    "\n",
    "print(\"\\n---- Skipped Pages ----\")\n",
    "print(skipped_pages)\n"
   ]
  },
  {
   "cell_type": "code",
   "execution_count": 15,
   "metadata": {},
   "outputs": [
    {
     "name": "stderr",
     "output_type": "stream",
     "text": [
      "Embedding: 100%|██████████| 7/7 [00:13<00:00,  1.91s/it]\n"
     ]
    }
   ],
   "source": [
    "\n",
    "# ── embed in batches ───────────────────────────────────────────\n",
    "batch = 100\n",
    "vectors = []\n",
    "for i in tqdm(range(0, len(docs), batch), desc=\"Embedding\"):\n",
    "    vecs = embeddings.embed_documents(docs[i:i+batch])\n",
    "    vectors.extend(vecs)\n"
   ]
  },
  {
   "cell_type": "code",
   "execution_count": 16,
   "metadata": {},
   "outputs": [],
   "source": [
    "to_upsert = [\n",
    "    (\n",
    "        ids[i],\n",
    "        vectors[i],\n",
    "        {**meta[i], \"text\": docs[i]}          # ensure \"text\" key exists\n",
    "    )\n",
    "    for i in range(len(docs))\n",
    "]"
   ]
  },
  {
   "cell_type": "code",
   "execution_count": 17,
   "metadata": {},
   "outputs": [
    {
     "name": "stdout",
     "output_type": "stream",
     "text": [
      "📤  Upserting to Pinecone …\n"
     ]
    },
    {
     "name": "stderr",
     "output_type": "stream",
     "text": [
      "100%|██████████| 605/605 [00:37<00:00, 16.07it/s]\n"
     ]
    },
    {
     "name": "stdout",
     "output_type": "stream",
     "text": [
      "\n",
      "✅  Done!  Pinecone now holds:\n",
      "   • vectors : 605\n",
      "   • dim      : 3072\n"
     ]
    }
   ],
   "source": [
    "pc = Pinecone(api_key=os.getenv(\"PINECONE_API_KEY\"))\n",
    "index = pc.Index(\"multimodal-manual\")          # ← already created with dim=3072\n",
    "\n",
    "def payload_size(batch):\n",
    "    return len(json.dumps(batch).encode())\n",
    "\n",
    "MAX_PAYLOAD = 3_000_000        # ≈3 MB (well under 4 MB limit)\n",
    "batch = []\n",
    "\n",
    "print(\"📤  Upserting to Pinecone …\")\n",
    "\n",
    "for tup in tqdm(to_upsert):\n",
    "    batch.append(tup)\n",
    "    if payload_size(batch) >= MAX_PAYLOAD:\n",
    "        index.upsert(batch, namespace=\"v1\")\n",
    "        batch = []\n",
    "\n",
    "# any leftovers\n",
    "if batch:\n",
    "    index.upsert(batch, namespace=\"v1\")\n",
    "\n",
    "# ------------------------------------------------------------\n",
    "# 4 · VERIFY\n",
    "# ------------------------------------------------------------\n",
    "stats = index.describe_index_stats(namespace=\"v1\")\n",
    "print(\"\\n✅  Done!  Pinecone now holds:\")\n",
    "print(f\"   • vectors : {stats['namespaces']['v1']['vector_count']}\")\n",
    "print(f\"   • dim      : {stats['dimension']}\")"
   ]
  },
  {
   "cell_type": "code",
   "execution_count": 36,
   "metadata": {},
   "outputs": [],
   "source": [
    "from langchain_pinecone import PineconeVectorStore\n",
    "from langchain_openai import ChatOpenAI\n",
    "from langchain.chains import ConversationalRetrievalChain\n",
    "from langchain.memory import ConversationBufferMemory\n",
    "from IPython.display import display, Image\n",
    "from pathlib import Path\n",
    "\n",
    "\n",
    "# Vector store\n",
    "vectorstore = PineconeVectorStore(\n",
    "    index=index,\n",
    "    embedding=embeddings,\n",
    "    namespace=\"v1\",\n",
    "    text_key=\"text\"\n",
    ")\n",
    "\n",
    "# Retriever\n",
    "retriever = vectorstore.as_retriever(search_kwargs={\"k\": 5})\n",
    "\n",
    "# LLM\n",
    "llm = ChatOpenAI(model_name=\"gpt-4o\", temperature=0.2)\n",
    "\n",
    "# Memory\n",
    "memory = ConversationBufferMemory(\n",
    "    memory_key=\"chat_history\",\n",
    "    return_messages=True,\n",
    "    output_key=\"answer\"  # ✅ Tells memory what to store\n",
    ")\n",
    "\n",
    "# RAG Chain with output key fix\n",
    "chat_rag = ConversationalRetrievalChain.from_llm(\n",
    "    llm=llm,\n",
    "    retriever=retriever,\n",
    "    memory=memory,\n",
    "    return_source_documents=True,\n",
    "    output_key=\"answer\"\n",
    ")\n",
    "\n",
    "\n",
    "def ask(query):\n",
    "    res = chat_rag.invoke({\"question\": query})\n",
    "    \n",
    "    top_image_path = None\n",
    "    top_image_doc  = None\n",
    "\n",
    "    # 🔍 Find the top image or page-type result\n",
    "    for doc in res[\"source_documents\"]:\n",
    "        doc_type = doc.metadata.get(\"type\")\n",
    "        path     = doc.metadata.get(\"path\")\n",
    "\n",
    "        if doc_type in {\"image\", \"page\"} and Path(path).suffix in {\".png\", \".jpg\", \".jpeg\"}:\n",
    "            top_image_path = path\n",
    "            top_image_doc  = doc\n",
    "            break  # ✅ Only the first relevant image is used\n",
    "\n",
    "    # 📸 Display the image (if one was found)\n",
    "    if top_image_path:\n",
    "        print(\"\\n🖼️  You can refer to the following diagram:\")\n",
    "        print(f\"• {top_image_doc.metadata.get('type')} → {top_image_path} (page {top_image_doc.metadata.get('page')})\")\n",
    "        try:\n",
    "            display(Image(filename=top_image_path, width=400))\n",
    "        except Exception as e:\n",
    "            print(f\"[!] Failed to display image: {e}\")\n",
    "\n",
    "    # 🤖 Display the bot's response\n",
    "    print(f\"\\n🧑: {query}\")\n",
    "    print(f\"🤖: {res['answer']}\")\n",
    "\n",
    "    # 📚 Display all source citations\n",
    "    print(\"\\n--- Sources ---\")\n",
    "    for doc in res[\"source_documents\"]:\n",
    "        print(f\"• {doc.metadata.get('type')} → {doc.metadata.get('path')} (page {doc.metadata.get('page')})\")\n",
    "\n"
   ]
  },
  {
   "cell_type": "code",
   "execution_count": 28,
   "metadata": {},
   "outputs": [],
   "source": [
    "query_vector = embeddings.embed_query(\"spindle speed\")\n",
    "res = index.query(vector=query_vector, top_k=5, namespace=\"v1\", include_metadata=True)\n"
   ]
  },
  {
   "cell_type": "code",
   "execution_count": 37,
   "metadata": {},
   "outputs": [
    {
     "name": "stdout",
     "output_type": "stream",
     "text": [
      "\n",
      "🖼️  You can refer to the following diagram:\n",
      "• image → data/images/doc2_image_66_4_344.png (page 66.0)\n"
     ]
    },
    {
     "data": {
      "image/png": "[encoded data removed]",
      "text/plain": [
       "<IPython.core.display.Image object>"
      ]
     },
     "metadata": {
      "image/png": {
       "width": 400
      }
     },
     "output_type": "display_data"
    },
    {
     "name": "stdout",
     "output_type": "stream",
     "text": [
      "\n",
      "🧑: Where is the lubrication diagram?\n",
      "🤖: The lubrication diagram is not provided in the text. The text mentions lubrication instructions and refers to a figure (figure 32) for the lubricating oil level window, but the actual diagram is not included in the provided context.\n",
      "\n",
      "--- Sources ---\n",
      "• text → data/text/doc2_text_51_1.txt (page 51.0)\n",
      "• image → data/images/doc2_image_66_4_344.png (page 66.0)\n",
      "• image → data/images/doc2_image_54_3_248.png (page 54.0)\n",
      "• image → data/images/doc2_image_60_2_287.png (page 60.0)\n",
      "• image → data/images/doc2_image_66_2_338.png (page 66.0)\n"
     ]
    }
   ],
   "source": [
    "ask(\"Where is the lubrication diagram?\")\n"
   ]
  },
  {
   "cell_type": "code",
   "execution_count": null,
   "metadata": {},
   "outputs": [
    {
     "name": "stdout",
     "output_type": "stream",
     "text": [
      "\n",
      "🧑: What is the recommended spindle speed range?\n",
      "🤖: I don't know the recommended spindle speed range based on the provided context. You may need to refer to the specific manual or rotation speed plate attached to the machine for detailed information.\n",
      "--- Sources ---\n",
      "• text → data/text/doc2_text_13_2.txt (page 13.0)\n",
      "• text → data/text/doc2_text_28_2.txt (page 28.0)\n",
      "• text → data/text/doc2_text_46_2.txt (page 46.0)\n",
      "• text → data/text/doc2_text_13_3.txt (page 13.0)\n",
      "• text → data/text/doc2_text_28_3.txt (page 28.0)\n",
      "\n",
      "🧑: Where is the lubrication diagram?\n",
      "🤖: The lubrication diagram can be found in Figure 39, which shows the lubrication points on the machine.\n",
      "--- Sources ---\n",
      "• text → data/text/doc2_text_51_1.txt (page 51.0)\n",
      "• text → data/text/doc2_text_52_0.txt (page 52.0)\n",
      "• image → data/images/doc2_image_66_2_338.png (page 66.0)\n",
      "• image → data/images/doc2_image_66_4_344.png (page 66.0)\n",
      "• text → data/text/doc2_text_51_0.txt (page 51.0)\n"
     ]
    }
   ],
   "source": [
    "from langchain_pinecone import PineconeVectorStore\n",
    "from langchain_openai import ChatOpenAI\n",
    "from langchain.chains import ConversationalRetrievalChain\n",
    "from langchain.memory import ConversationBufferMemory\n",
    "\n",
    "# Vector store\n",
    "vectorstore = PineconeVectorStore(\n",
    "    index=index,\n",
    "    embedding=embeddings,\n",
    "    namespace=\"v1\",\n",
    "    text_key=\"text\"\n",
    ")\n",
    "\n",
    "# Retriever\n",
    "retriever = vectorstore.as_retriever(search_kwargs={\"k\": 5})\n",
    "\n",
    "# LLM\n",
    "llm = ChatOpenAI(model_name=\"gpt-4o\", temperature=0.2)\n",
    "\n",
    "# Memory\n",
    "memory = ConversationBufferMemory(\n",
    "    memory_key=\"chat_history\",\n",
    "    return_messages=True,\n",
    "    output_key=\"answer\"  # ✅ Tells memory what to store\n",
    ")\n",
    "\n",
    "# RAG Chain with output key fix\n",
    "chat_rag = ConversationalRetrievalChain.from_llm(\n",
    "    llm=llm,\n",
    "    retriever=retriever,\n",
    "    memory=memory,\n",
    "    return_source_documents=True,\n",
    "    output_key=\"answer\"\n",
    ")\n",
    "\n",
    "# Chat loop\n",
    "def ask(query):\n",
    "    input_vars = {\n",
    "        \"question\": query,\n",
    "        \"chat_history\": memory.load_memory_variables({})[\"chat_history\"]  # ✅ now correctly aligned\n",
    "    }\n",
    "    res = chat_rag.invoke(input_vars)\n",
    "    \n",
    "    print(f\"\\n🧑: {query}\")\n",
    "    print(f\"🤖: {res['answer']}\")\n",
    "    print(\"--- Sources ---\")\n",
    "    for doc in res[\"source_documents\"]:\n",
    "        print(f\"• {doc.metadata.get('type')} → {doc.metadata.get('path')} (page {doc.metadata.get('page')})\")\n",
    "\n",
    "\n",
    "# Test\n",
    "ask(\"What is the recommended spindle speed range?\")\n",
    "ask(\"Where is the lubrication diagram?\")\n"
   ]
  },
  {
   "cell_type": "code",
   "execution_count": 53,
   "metadata": {},
   "outputs": [
    {
     "data": {
      "text/plain": [
       "{'dimension': 3072,\n",
       " 'index_fullness': 0.0,\n",
       " 'metric': 'cosine',\n",
       " 'namespaces': {'v1': {'vector_count': 750}},\n",
       " 'total_vector_count': 750,\n",
       " 'vector_type': 'dense'}"
      ]
     },
     "execution_count": 53,
     "metadata": {},
     "output_type": "execute_result"
    }
   ],
   "source": [
    "index.describe_index_stats(namespace=\"v1\")\n"
   ]
  },
  {
   "cell_type": "code",
   "execution_count": 42,
   "metadata": {},
   "outputs": [
    {
     "name": "stdout",
     "output_type": "stream",
     "text": [
      "\n",
      "Score: 0.6529\n",
      "Type: text\n",
      "Path: data/text/doc2_text_28_2.txt\n",
      "\n",
      "Score: 0.6057\n",
      "Type: text\n",
      "Path: data/text/doc2_text_13_4.txt\n",
      "\n",
      "Score: 0.5967\n",
      "Type: text\n",
      "Path: data/text/doc2_text_28_3.txt\n"
     ]
    }
   ],
   "source": [
    "query = \"How to adjust spindle speed?\"\n",
    "\n",
    "query_embedding = embeddings.embed_query(query)\n",
    "\n",
    "res = index.query(\n",
    "    vector=query_embedding,\n",
    "    top_k=3,\n",
    "    namespace=\"v1\",\n",
    "    include_metadata=True\n",
    ")\n",
    "\n",
    "for match in res['matches']:\n",
    "    print(f\"\\nScore: {match['score']:.4f}\")\n",
    "    print(f\"Type: {match['metadata'].get('type')}\")\n",
    "    print(f\"Path: {match['metadata'].get('path')}\")\n"
   ]
  },
  {
   "cell_type": "code",
   "execution_count": 43,
   "metadata": {},
   "outputs": [],
   "source": [
    "image_matches = [m for m in res['matches'] if m['metadata'].get('type') == 'image']\n",
    "for img in image_matches:\n",
    "    print(f\"🔍 Image: {img['metadata'].get('path')} → score: {img['score']:.3f}\")\n"
   ]
  },
  {
   "cell_type": "code",
   "execution_count": 45,
   "metadata": {},
   "outputs": [],
   "source": [
    "from langchain_pinecone import PineconeVectorStore\n",
    "\n",
    "vectorstore = PineconeVectorStore(\n",
    "    index      = index,          # your Pinecone index from earlier\n",
    "    embedding  = embeddings,     # same OpenAIEmbeddings object\n",
    "    namespace  = \"v1\",           # must match your upsert namespace\n",
    "    text_key   = \"text\"\n",
    ")\n"
   ]
  },
  {
   "cell_type": "code",
   "execution_count": 54,
   "metadata": {},
   "outputs": [
    {
     "name": "stdout",
     "output_type": "stream",
     "text": [
      "\n",
      "Score: 0.567\n",
      "Type: text\n",
      "Page: 51.0\n",
      "Path: data/text/doc2_text_51_1.txt\n",
      "Text: ...\n",
      "\n",
      "Score: 0.550\n",
      "Type: text\n",
      "Page: 54.0\n",
      "Path: data/text/doc2_text_54_1.txt\n",
      "Text: ...\n",
      "\n",
      "Score: 0.536\n",
      "Type: text\n",
      "Page: 51.0\n",
      "Path: data/text/doc2_text_51_0.txt\n",
      "Text: ...\n"
     ]
    }
   ],
   "source": [
    "query = \"How to lubricate the spindle?\"\n",
    "query_vector = embeddings.embed_query(query)\n",
    "\n",
    "res = index.query(\n",
    "    vector=query_vector,\n",
    "    top_k=3,\n",
    "    namespace=\"v1\",\n",
    "    include_metadata=True\n",
    ")\n",
    "\n",
    "for match in res['matches']:\n",
    "    print(f\"\\nScore: {match['score']:.3f}\")\n",
    "    print(f\"Type: {match['metadata'].get('type')}\")\n",
    "    print(f\"Page: {match['metadata'].get('page')}\")\n",
    "    print(f\"Path: {match['metadata'].get('path')}\")\n",
    "    print(f\"Text: {match['metadata'].get('text', '')[:150]}...\")\n",
    "\n"
   ]
  },
  {
   "cell_type": "code",
   "execution_count": null,
   "metadata": {},
   "outputs": [
    {
     "name": "stderr",
     "output_type": "stream",
     "text": [
      "Found document with no `text` key. Skipping.\n",
      "Found document with no `text` key. Skipping.\n",
      "Found document with no `text` key. Skipping.\n"
     ]
    },
    {
     "name": "stderr",
     "output_type": "stream",
     "text": [
      "Task exception was never retrieved\n",
      "future: <Task finished name='Task-2799' coro=<caption_image_async() done, defined at /var/folders/3x/zwytj0k10b1_d1jp5zlhvt7w0000gn/T/ipykernel_12320/159809286.py:35> exception=APIConnectionError('Connection error.')>\n",
      "Traceback (most recent call last):\n",
      "  File \"/Users/rajeev/anaconda3/lib/python3.11/site-packages/httpx/_transports/default.py\", line 72, in map_httpcore_exceptions\n",
      "    yield\n",
      "  File \"/Users/rajeev/anaconda3/lib/python3.11/site-packages/httpx/_transports/default.py\", line 377, in handle_async_request\n",
      "    resp = await self._pool.handle_async_request(req)\n",
      "           ^^^^^^^^^^^^^^^^^^^^^^^^^^^^^^^^^^^^^^^^^^\n",
      "  File \"/Users/rajeev/anaconda3/lib/python3.11/site-packages/httpcore/_async/connection_pool.py\", line 256, in handle_async_request\n",
      "    raise exc from None\n",
      "  File \"/Users/rajeev/anaconda3/lib/python3.11/site-packages/httpcore/_async/connection_pool.py\", line 236, in handle_async_request\n",
      "    response = await connection.handle_async_request(\n",
      "               ^^^^^^^^^^^^^^^^^^^^^^^^^^^^^^^^^^^^^^\n",
      "  File \"/Users/rajeev/anaconda3/lib/python3.11/site-packages/httpcore/_async/connection.py\", line 103, in handle_async_request\n",
      "    return await self._connection.handle_async_request(request)\n",
      "           ^^^^^^^^^^^^^^^^^^^^^^^^^^^^^^^^^^^^^^^^^^^^^^^^^^^^\n",
      "  File \"/Users/rajeev/anaconda3/lib/python3.11/site-packages/httpcore/_async/http11.py\", line 136, in handle_async_request\n",
      "    raise exc\n",
      "  File \"/Users/rajeev/anaconda3/lib/python3.11/site-packages/httpcore/_async/http11.py\", line 106, in handle_async_request\n",
      "    ) = await self._receive_response_headers(**kwargs)\n",
      "        ^^^^^^^^^^^^^^^^^^^^^^^^^^^^^^^^^^^^^^^^^^^^^^\n",
      "  File \"/Users/rajeev/anaconda3/lib/python3.11/site-packages/httpcore/_async/http11.py\", line 177, in _receive_response_headers\n",
      "    event = await self._receive_event(timeout=timeout)\n",
      "            ^^^^^^^^^^^^^^^^^^^^^^^^^^^^^^^^^^^^^^^^^^\n",
      "  File \"/Users/rajeev/anaconda3/lib/python3.11/site-packages/httpcore/_async/http11.py\", line 217, in _receive_event\n",
      "    data = await self._network_stream.read(\n",
      "           ^^^^^^^^^^^^^^^^^^^^^^^^^^^^^^^^\n",
      "  File \"/Users/rajeev/anaconda3/lib/python3.11/site-packages/httpcore/_backends/anyio.py\", line 32, in read\n",
      "    with map_exceptions(exc_map):\n",
      "  File \"/Users/rajeev/anaconda3/lib/python3.11/contextlib.py\", line 155, in __exit__\n",
      "    self.gen.throw(typ, value, traceback)\n",
      "  File \"/Users/rajeev/anaconda3/lib/python3.11/site-packages/httpcore/_exceptions.py\", line 14, in map_exceptions\n",
      "    raise to_exc(exc) from exc\n",
      "httpcore.ReadError\n",
      "\n",
      "The above exception was the direct cause of the following exception:\n",
      "\n",
      "Traceback (most recent call last):\n",
      "  File \"/Users/rajeev/anaconda3/lib/python3.11/site-packages/openai/_base_client.py\", line 1484, in request\n",
      "    response = await self._client.send(\n",
      "               ^^^^^^^^^^^^^^^^^^^^^^^^\n",
      "  File \"/Users/rajeev/anaconda3/lib/python3.11/site-packages/httpx/_client.py\", line 1674, in send\n",
      "    response = await self._send_handling_auth(\n",
      "               ^^^^^^^^^^^^^^^^^^^^^^^^^^^^^^^\n",
      "  File \"/Users/rajeev/anaconda3/lib/python3.11/site-packages/httpx/_client.py\", line 1702, in _send_handling_auth\n",
      "    response = await self._send_handling_redirects(\n",
      "               ^^^^^^^^^^^^^^^^^^^^^^^^^^^^^^^^^^^^\n",
      "  File \"/Users/rajeev/anaconda3/lib/python3.11/site-packages/httpx/_client.py\", line 1739, in _send_handling_redirects\n",
      "    response = await self._send_single_request(request)\n",
      "               ^^^^^^^^^^^^^^^^^^^^^^^^^^^^^^^^^^^^^^^^\n",
      "  File \"/Users/rajeev/anaconda3/lib/python3.11/site-packages/httpx/_client.py\", line 1776, in _send_single_request\n",
      "    response = await transport.handle_async_request(request)\n",
      "               ^^^^^^^^^^^^^^^^^^^^^^^^^^^^^^^^^^^^^^^^^^^^^\n",
      "  File \"/Users/rajeev/anaconda3/lib/python3.11/site-packages/httpx/_transports/default.py\", line 376, in handle_async_request\n",
      "    with map_httpcore_exceptions():\n",
      "  File \"/Users/rajeev/anaconda3/lib/python3.11/contextlib.py\", line 155, in __exit__\n",
      "    self.gen.throw(typ, value, traceback)\n",
      "  File \"/Users/rajeev/anaconda3/lib/python3.11/site-packages/httpx/_transports/default.py\", line 89, in map_httpcore_exceptions\n",
      "    raise mapped_exc(message) from exc\n",
      "httpx.ReadError\n",
      "\n",
      "The above exception was the direct cause of the following exception:\n",
      "\n",
      "Traceback (most recent call last):\n",
      "  File \"/var/folders/3x/zwytj0k10b1_d1jp5zlhvt7w0000gn/T/ipykernel_12320/159809286.py\", line 41, in caption_image_async\n",
      "    resp = await openai.AsyncOpenAI().chat.completions.create(\n",
      "           ^^^^^^^^^^^^^^^^^^^^^^^^^^^^^^^^^^^^^^^^^^^^^^^^^^^\n",
      "  File \"/Users/rajeev/anaconda3/lib/python3.11/site-packages/openai/resources/chat/completions/completions.py\", line 2028, in create\n",
      "    return await self._post(\n",
      "           ^^^^^^^^^^^^^^^^^\n",
      "  File \"/Users/rajeev/anaconda3/lib/python3.11/site-packages/openai/_base_client.py\", line 1742, in post\n",
      "    return await self.request(cast_to, opts, stream=stream, stream_cls=stream_cls)\n",
      "           ^^^^^^^^^^^^^^^^^^^^^^^^^^^^^^^^^^^^^^^^^^^^^^^^^^^^^^^^^^^^^^^^^^^^^^^\n",
      "  File \"/Users/rajeev/anaconda3/lib/python3.11/site-packages/openai/_base_client.py\", line 1516, in request\n",
      "    raise APIConnectionError(request=request) from err\n",
      "openai.APIConnectionError: Connection error.\n",
      "Task exception was never retrieved\n",
      "future: <Task finished name='Task-2780' coro=<caption_image_async() done, defined at /var/folders/3x/zwytj0k10b1_d1jp5zlhvt7w0000gn/T/ipykernel_12320/159809286.py:35> exception=APITimeoutError('Request timed out.')>\n",
      "Traceback (most recent call last):\n",
      "  File \"/Users/rajeev/anaconda3/lib/python3.11/site-packages/httpx/_transports/default.py\", line 72, in map_httpcore_exceptions\n",
      "    yield\n",
      "  File \"/Users/rajeev/anaconda3/lib/python3.11/site-packages/httpx/_transports/default.py\", line 377, in handle_async_request\n",
      "    resp = await self._pool.handle_async_request(req)\n",
      "           ^^^^^^^^^^^^^^^^^^^^^^^^^^^^^^^^^^^^^^^^^^\n",
      "  File \"/Users/rajeev/anaconda3/lib/python3.11/site-packages/httpcore/_async/connection_pool.py\", line 256, in handle_async_request\n",
      "    raise exc from None\n",
      "  File \"/Users/rajeev/anaconda3/lib/python3.11/site-packages/httpcore/_async/connection_pool.py\", line 236, in handle_async_request\n",
      "    response = await connection.handle_async_request(\n",
      "               ^^^^^^^^^^^^^^^^^^^^^^^^^^^^^^^^^^^^^^\n",
      "  File \"/Users/rajeev/anaconda3/lib/python3.11/site-packages/httpcore/_async/connection.py\", line 103, in handle_async_request\n",
      "    return await self._connection.handle_async_request(request)\n",
      "           ^^^^^^^^^^^^^^^^^^^^^^^^^^^^^^^^^^^^^^^^^^^^^^^^^^^^\n",
      "  File \"/Users/rajeev/anaconda3/lib/python3.11/site-packages/httpcore/_async/http11.py\", line 136, in handle_async_request\n",
      "    raise exc\n",
      "  File \"/Users/rajeev/anaconda3/lib/python3.11/site-packages/httpcore/_async/http11.py\", line 106, in handle_async_request\n",
      "    ) = await self._receive_response_headers(**kwargs)\n",
      "        ^^^^^^^^^^^^^^^^^^^^^^^^^^^^^^^^^^^^^^^^^^^^^^\n",
      "  File \"/Users/rajeev/anaconda3/lib/python3.11/site-packages/httpcore/_async/http11.py\", line 177, in _receive_response_headers\n",
      "    event = await self._receive_event(timeout=timeout)\n",
      "            ^^^^^^^^^^^^^^^^^^^^^^^^^^^^^^^^^^^^^^^^^^\n",
      "  File \"/Users/rajeev/anaconda3/lib/python3.11/site-packages/httpcore/_async/http11.py\", line 217, in _receive_event\n",
      "    data = await self._network_stream.read(\n",
      "           ^^^^^^^^^^^^^^^^^^^^^^^^^^^^^^^^\n",
      "  File \"/Users/rajeev/anaconda3/lib/python3.11/site-packages/httpcore/_backends/anyio.py\", line 32, in read\n",
      "    with map_exceptions(exc_map):\n",
      "  File \"/Users/rajeev/anaconda3/lib/python3.11/contextlib.py\", line 155, in __exit__\n",
      "    self.gen.throw(typ, value, traceback)\n",
      "  File \"/Users/rajeev/anaconda3/lib/python3.11/site-packages/httpcore/_exceptions.py\", line 14, in map_exceptions\n",
      "    raise to_exc(exc) from exc\n",
      "httpcore.ReadTimeout\n",
      "\n",
      "The above exception was the direct cause of the following exception:\n",
      "\n",
      "Traceback (most recent call last):\n",
      "  File \"/Users/rajeev/anaconda3/lib/python3.11/site-packages/openai/_base_client.py\", line 1484, in request\n",
      "    response = await self._client.send(\n",
      "               ^^^^^^^^^^^^^^^^^^^^^^^^\n",
      "  File \"/Users/rajeev/anaconda3/lib/python3.11/site-packages/httpx/_client.py\", line 1674, in send\n",
      "    response = await self._send_handling_auth(\n",
      "               ^^^^^^^^^^^^^^^^^^^^^^^^^^^^^^^\n",
      "  File \"/Users/rajeev/anaconda3/lib/python3.11/site-packages/httpx/_client.py\", line 1702, in _send_handling_auth\n",
      "    response = await self._send_handling_redirects(\n",
      "               ^^^^^^^^^^^^^^^^^^^^^^^^^^^^^^^^^^^^\n",
      "  File \"/Users/rajeev/anaconda3/lib/python3.11/site-packages/httpx/_client.py\", line 1739, in _send_handling_redirects\n",
      "    response = await self._send_single_request(request)\n",
      "               ^^^^^^^^^^^^^^^^^^^^^^^^^^^^^^^^^^^^^^^^\n",
      "  File \"/Users/rajeev/anaconda3/lib/python3.11/site-packages/httpx/_client.py\", line 1776, in _send_single_request\n",
      "    response = await transport.handle_async_request(request)\n",
      "               ^^^^^^^^^^^^^^^^^^^^^^^^^^^^^^^^^^^^^^^^^^^^^\n",
      "  File \"/Users/rajeev/anaconda3/lib/python3.11/site-packages/httpx/_transports/default.py\", line 376, in handle_async_request\n",
      "    with map_httpcore_exceptions():\n",
      "  File \"/Users/rajeev/anaconda3/lib/python3.11/contextlib.py\", line 155, in __exit__\n",
      "    self.gen.throw(typ, value, traceback)\n",
      "  File \"/Users/rajeev/anaconda3/lib/python3.11/site-packages/httpx/_transports/default.py\", line 89, in map_httpcore_exceptions\n",
      "    raise mapped_exc(message) from exc\n",
      "httpx.ReadTimeout\n",
      "\n",
      "The above exception was the direct cause of the following exception:\n",
      "\n",
      "Traceback (most recent call last):\n",
      "  File \"/var/folders/3x/zwytj0k10b1_d1jp5zlhvt7w0000gn/T/ipykernel_12320/159809286.py\", line 41, in caption_image_async\n",
      "    resp = await openai.AsyncOpenAI().chat.completions.create(\n",
      "           ^^^^^^^^^^^^^^^^^^^^^^^^^^^^^^^^^^^^^^^^^^^^^^^^^^^\n",
      "  File \"/Users/rajeev/anaconda3/lib/python3.11/site-packages/openai/resources/chat/completions/completions.py\", line 2028, in create\n",
      "    return await self._post(\n",
      "           ^^^^^^^^^^^^^^^^^\n",
      "  File \"/Users/rajeev/anaconda3/lib/python3.11/site-packages/openai/_base_client.py\", line 1742, in post\n",
      "    return await self.request(cast_to, opts, stream=stream, stream_cls=stream_cls)\n",
      "           ^^^^^^^^^^^^^^^^^^^^^^^^^^^^^^^^^^^^^^^^^^^^^^^^^^^^^^^^^^^^^^^^^^^^^^^\n",
      "  File \"/Users/rajeev/anaconda3/lib/python3.11/site-packages/openai/_base_client.py\", line 1502, in request\n",
      "    raise APITimeoutError(request=request) from err\n",
      "openai.APITimeoutError: Request timed out.\n"
     ]
    }
   ],
   "source": [
    "retriever = vectorstore.as_retriever(search_kwargs={\"k\": 3})\n",
    "docs = retriever.invoke(\"Where is the lubrication diagram?\")\n",
    "\n",
    "for doc in docs:\n",
    "    print(f\"\\nType: {doc.metadata.get('type')}\")\n",
    "    print(f\"Page: {doc.metadata.get('page')}\")\n",
    "    print(f\"Path: {doc.metadata.get('path')}\")\n",
    "    print(f\"Content preview: {doc.page_content[:200]}...\")\n"
   ]
  }
 ],
 "metadata": {
  "kernelspec": {
   "display_name": "base",
   "language": "python",
   "name": "python3"
  },
  "language_info": {
   "codemirror_mode": {
    "name": "ipython",
    "version": 3
   },
   "file_extension": ".py",
   "mimetype": "text/x-python",
   "name": "python",
   "nbconvert_exporter": "python",
   "pygments_lexer": "ipython3",
   "version": "3.11.4"
  }
 },
 "nbformat": 4,
 "nbformat_minor": 2
}
